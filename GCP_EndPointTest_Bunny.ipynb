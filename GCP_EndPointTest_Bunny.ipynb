{
  "nbformat": 4,
  "nbformat_minor": 0,
  "metadata": {
    "colab": {
      "provenance": []
    },
    "kernelspec": {
      "name": "python3",
      "display_name": "Python 3"
    },
    "language_info": {
      "name": "python"
    }
  },
  "cells": [
    {
      "cell_type": "code",
      "source": [
        "# install packages\n",
        "! pip3 install --upgrade --quiet google-cloud-aiplatform \\\n",
        "                                    jsonlines"
      ],
      "metadata": {
        "id": "tBKOkx8Z250g"
      },
      "execution_count": 1,
      "outputs": []
    },
    {
      "cell_type": "code",
      "execution_count": 14,
      "metadata": {
        "id": "PXQGPViKw2nS"
      },
      "outputs": [],
      "source": [
        "import jsonlines\n",
        "import os\n",
        "import sys\n",
        "from google.cloud import aiplatform # after installing upgrades restard environment\n",
        "from google.cloud.aiplatform import jobs # same for this guy\n",
        "\n",
        "credentials_path = \"/content/lucid-splicer-364502-73b5ca52c83f.json\"\n",
        "os.environ[\"GOOGLE_APPLICATION_CREDENTIALS\"]=credentials_path\n",
        "project_id = \"lucid-splicer-364502\" \n",
        "endpoint_id=\"6235695478978117632\" # This guy is my TEXT Description Model\n",
        "endpoint_id_inhouse=\"8610499857485922304\" # This guy is my own model endpoint\n",
        "region=\"us-central1\"\n",
        "\n",
        "aiplatform.init(project=project_id, location=region)\n",
        "endpoint = aiplatform.Endpoint(endpoint_name=endpoint_id)\n",
        "endpoint_inhouse = aiplatform.Endpoint(endpoint_name=endpoint_id_inhouse)"
      ]
    },
    {
      "cell_type": "code",
      "source": [
        "content = \"I got into Harvard! This is the dream I always dreamed of!\"\n",
        "\n",
        "response = endpoint.predict(instances=[{\"content\": content}])\n",
        "\n",
        "for prediction_ in response.predictions:\n",
        "    ids = prediction_[\"ids\"]\n",
        "    display_names = prediction_[\"displayNames\"]\n",
        "    confidence_scores = prediction_[\"confidences\"]\n",
        "    for count, id in enumerate(ids):\n",
        "        print(f\"Prediction ID: {id}\")\n",
        "        print(f\"Prediction display name: {display_names[count]}\")\n",
        "        print(f\"Prediction confidence score: {confidence_scores[count]}\")"
      ],
      "metadata": {
        "colab": {
          "base_uri": "https://localhost:8080/"
        },
        "id": "S80FRW2Y49Xi",
        "outputId": "9ce6a317-3171-49d2-ad1e-5fc077cb8a70"
      },
      "execution_count": 15,
      "outputs": [
        {
          "output_type": "stream",
          "name": "stdout",
          "text": [
            "Prediction ID: 2936418975057182720\n",
            "Prediction display name: affection\n",
            "Prediction confidence score: 0.001212495961226523\n",
            "Prediction ID: 8124565745787994112\n",
            "Prediction display name: achievement\n",
            "Prediction confidence score: 0.8645693063735962\n",
            "Prediction ID: 1783497470450335744\n",
            "Prediction display name: enjoy_the_moment\n",
            "Prediction confidence score: 0.12732714414596558\n",
            "Prediction ID: 5242261984270876672\n",
            "Prediction display name: bonding\n",
            "Prediction confidence score: 3.29871654685121e-05\n",
            "Prediction ID: 6395183488877723648\n",
            "Prediction display name: leisure\n",
            "Prediction confidence score: 0.00628275889903307\n",
            "Prediction ID: 630575965843488768\n",
            "Prediction display name: nature\n",
            "Prediction confidence score: 0.0005181951564736664\n",
            "Prediction ID: 7548104993484570624\n",
            "Prediction display name: exercise\n",
            "Prediction confidence score: 5.71706987102516e-05\n"
          ]
        }
      ]
    },
    {
      "cell_type": "code",
      "source": [
        "content = \"I feel bad, nothing makes sense, there is no point in living\"\n",
        "\n",
        "response = endpoint.predict(instances=[{\"content\": content}])\n",
        "\n",
        "for prediction_ in response.predictions:\n",
        "    ids = prediction_[\"ids\"]\n",
        "    display_names = prediction_[\"displayNames\"]\n",
        "    confidence_scores = prediction_[\"confidences\"]\n",
        "    for count, id in enumerate(ids):\n",
        "        print(f\"Prediction ID: {id}\")\n",
        "        print(f\"Prediction display name: {display_names[count]}\")\n",
        "        print(f\"Prediction confidence score: {confidence_scores[count]}\")"
      ],
      "metadata": {
        "colab": {
          "base_uri": "https://localhost:8080/"
        },
        "id": "229116JtNckD",
        "outputId": "ac08dc3e-7a47-4c36-986c-a6176ff1133c"
      },
      "execution_count": 12,
      "outputs": [
        {
          "output_type": "stream",
          "name": "stdout",
          "text": [
            "Prediction ID: 2936418975057182720\n",
            "Prediction display name: affection\n",
            "Prediction confidence score: 0.0006329688476398587\n",
            "Prediction ID: 8124565745787994112\n",
            "Prediction display name: achievement\n",
            "Prediction confidence score: 0.1507296860218048\n",
            "Prediction ID: 1783497470450335744\n",
            "Prediction display name: enjoy_the_moment\n",
            "Prediction confidence score: 0.8344077467918396\n",
            "Prediction ID: 5242261984270876672\n",
            "Prediction display name: bonding\n",
            "Prediction confidence score: 0.0001404640934197232\n",
            "Prediction ID: 6395183488877723648\n",
            "Prediction display name: leisure\n",
            "Prediction confidence score: 0.012587957084178925\n",
            "Prediction ID: 630575965843488768\n",
            "Prediction display name: nature\n",
            "Prediction confidence score: 0.0007704272866249084\n",
            "Prediction ID: 7548104993484570624\n",
            "Prediction display name: exercise\n",
            "Prediction confidence score: 0.0007308826316148043\n"
          ]
        }
      ]
    },
    {
      "cell_type": "code",
      "source": [
        "content = \"I swim everyday, then I go running for 20 minutes and get back home for breakfast\"\n",
        "\n",
        "response = endpoint.predict(instances=[{\"content\": content}])\n",
        "\n",
        "for prediction_ in response.predictions:\n",
        "    ids = prediction_[\"ids\"]\n",
        "    display_names = prediction_[\"displayNames\"]\n",
        "    confidence_scores = prediction_[\"confidences\"]\n",
        "    for count, id in enumerate(ids):\n",
        "        print(f\"Prediction ID: {id}\")\n",
        "        print(f\"Prediction display name: {display_names[count]}\")\n",
        "        print(f\"Prediction confidence score: {confidence_scores[count]}\")"
      ],
      "metadata": {
        "colab": {
          "base_uri": "https://localhost:8080/"
        },
        "id": "2ZkQjRm-NnHe",
        "outputId": "75c14b27-415e-46c7-d43b-e593e8950816"
      },
      "execution_count": 13,
      "outputs": [
        {
          "output_type": "stream",
          "name": "stdout",
          "text": [
            "Prediction ID: 2936418975057182720\n",
            "Prediction display name: affection\n",
            "Prediction confidence score: 0.009418427012860775\n",
            "Prediction ID: 8124565745787994112\n",
            "Prediction display name: achievement\n",
            "Prediction confidence score: 0.20398829877376556\n",
            "Prediction ID: 1783497470450335744\n",
            "Prediction display name: enjoy_the_moment\n",
            "Prediction confidence score: 0.10846947133541107\n",
            "Prediction ID: 5242261984270876672\n",
            "Prediction display name: bonding\n",
            "Prediction confidence score: 0.00014001430827192962\n",
            "Prediction ID: 6395183488877723648\n",
            "Prediction display name: leisure\n",
            "Prediction confidence score: 0.0006838554400019348\n",
            "Prediction ID: 630575965843488768\n",
            "Prediction display name: nature\n",
            "Prediction confidence score: 0.0037974072620272636\n",
            "Prediction ID: 7548104993484570624\n",
            "Prediction display name: exercise\n",
            "Prediction confidence score: 0.6735024452209473\n"
          ]
        }
      ]
    },
    {
      "cell_type": "code",
      "source": [
        "content = [[538,4.259996635,7.694207979,2.083630083,80.18345308,81.18079834]]\n",
        "response_inhouse = endpoint_inhouse.predict(instances=content)\n",
        "print(\"Engine Model Prediction as follows:\")\n",
        "print(response_inhouse.predictions)\n",
        "if response_inhouse.predictions == [1.0]:\n",
        "  resultado = \"Engine is good, no need for maintenance\"\n",
        "else:\n",
        "  resultado= \"Engine needs supervision, OMG!\"\n",
        "print(\"\\n\\r\" + resultado)"
      ],
      "metadata": {
        "colab": {
          "base_uri": "https://localhost:8080/"
        },
        "id": "X8GBFD2mOrhP",
        "outputId": "06b6ab5b-0bff-4cd1-a3f9-35d19fd49728"
      },
      "execution_count": 32,
      "outputs": [
        {
          "output_type": "stream",
          "name": "stdout",
          "text": [
            "Engine Model Prediction as follows:\n",
            "[1.0]\n",
            "\n",
            "\rEngine is good, no need for maintenance\n"
          ]
        }
      ]
    },
    {
      "cell_type": "code",
      "source": [
        "content = [[767,4.596903025,7.496561998,1.432776233,84.92414335,80.26551481]]\n",
        "response_inhouse = endpoint_inhouse.predict(instances=content)\n",
        "print(\"Engine Model Prediction as follows:\")\n",
        "print(response_inhouse.predictions)\n",
        "if response_inhouse.predictions == [1.0]:\n",
        "  resultado = \"Engine is good, no need for maintenance\"\n",
        "else:\n",
        "  resultado= \"Engine needs supervision, OMG!\"\n",
        "print(\"\\n\\r\" + resultado)"
      ],
      "metadata": {
        "colab": {
          "base_uri": "https://localhost:8080/"
        },
        "id": "A_dd_-yAQ5P9",
        "outputId": "4adc9f51-8410-4b18-db1b-4f22fcc057b5"
      },
      "execution_count": 33,
      "outputs": [
        {
          "output_type": "stream",
          "name": "stdout",
          "text": [
            "Engine Model Prediction as follows:\n",
            "[0.0]\n",
            "\n",
            "\rEngine needs supervision, OMG!\n"
          ]
        }
      ]
    },
    {
      "cell_type": "markdown",
      "source": [
        "Fuentes importantes:\n",
        "\n",
        "https://github.com/GoogleCloudPlatform/vertex-ai-samples/blob/main/notebooks/official/automl/automl-text-classification.ipynb\n",
        "https://cloud.google.com/python/docs/reference/aiplatform/latest/google.cloud.aiplatform.Endpoint\n"
      ],
      "metadata": {
        "id": "b-b7i64vbFk8"
      }
    }
  ]
}