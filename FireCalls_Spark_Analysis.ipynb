{
  "nbformat": 4,
  "nbformat_minor": 0,
  "metadata": {
    "colab": {
      "name": "FireCalls_Spark_Analysis.ipynb",
      "provenance": [],
      "collapsed_sections": []
    },
    "kernelspec": {
      "name": "python3",
      "display_name": "Python 3"
    },
    "language_info": {
      "name": "python"
    }
  },
  "cells": [
    {
      "cell_type": "markdown",
      "source": [
        "# Fire Calls San Francisco - Spark Analysis 🚒"
      ],
      "metadata": {
        "id": "w1AYWfqOfLSb"
      }
    },
    {
      "cell_type": "markdown",
      "source": [
        "# 1 - Obtener datos e importar herramientas"
      ],
      "metadata": {
        "id": "ErPpXqBsgyTs"
      }
    },
    {
      "cell_type": "markdown",
      "source": [
        "Utilizando el dataset “Fire Calls San Franciso” responder a las siguientes preguntas utilizando Spark:\n",
        "\n",
        "1. ¿Cuáles fueron los diferentes tipos de llamadas que hubo en 2018?\n",
        "2. ¿Qué mes de 2018 fue el que tuvo un número mayor de llamadas?\n",
        "3. ¿Cuál vecindario de San Francisco fue el que realizó el mayor número de llamadas en 2018?\n",
        "4. ¿Cuáles vecindarios tuvieron el peor tiempo de respuesta a las llamadas en 2018?\n",
        "5. ¿Cuál semana del 2018 tuvo el mayor número de llamadas?\n",
        "6. ¿Existe alguna correlación entre los vecindarios, códigos postales y número de llamadas?"
      ],
      "metadata": {
        "id": "ZN-b-P1afPE3"
      }
    },
    {
      "cell_type": "code",
      "execution_count": 1,
      "metadata": {
        "colab": {
          "base_uri": "https://localhost:8080/"
        },
        "id": "xlyIIaQrfGcZ",
        "outputId": "0f3120ea-15b1-495d-f9aa-fe9bb69ac47b"
      },
      "outputs": [
        {
          "output_type": "stream",
          "name": "stdout",
          "text": [
            "Looking in indexes: https://pypi.org/simple, https://us-python.pkg.dev/colab-wheels/public/simple/\n",
            "Collecting pyspark\n",
            "  Downloading pyspark-3.3.0.tar.gz (281.3 MB)\n",
            "\u001b[K     |████████████████████████████████| 281.3 MB 46 kB/s \n",
            "\u001b[?25hCollecting py4j==0.10.9.5\n",
            "  Downloading py4j-0.10.9.5-py2.py3-none-any.whl (199 kB)\n",
            "\u001b[K     |████████████████████████████████| 199 kB 58.4 MB/s \n",
            "\u001b[?25hBuilding wheels for collected packages: pyspark\n",
            "  Building wheel for pyspark (setup.py) ... \u001b[?25l\u001b[?25hdone\n",
            "  Created wheel for pyspark: filename=pyspark-3.3.0-py2.py3-none-any.whl size=281764026 sha256=b7e6e7bb416730bd026d5cf2ae2f385df1eb31bde8ea4f1adbc59bbf76b33bcc\n",
            "  Stored in directory: /root/.cache/pip/wheels/7a/8e/1b/f73a52650d2e5f337708d9f6a1750d451a7349a867f928b885\n",
            "Successfully built pyspark\n",
            "Installing collected packages: py4j, pyspark\n",
            "Successfully installed py4j-0.10.9.5 pyspark-3.3.0\n"
          ]
        }
      ],
      "source": [
        "!pip install pyspark"
      ]
    },
    {
      "cell_type": "code",
      "source": [
        "from pyspark.sql import SparkSession #-- importo la sesión para Spark\n",
        "import pandas as pd #-- Data Frames en pandas como objeto pd\n",
        "import requests #-- para bajar archivos públicos de la nube\n",
        "from io import StringIO #-- manipular direcciones URL"
      ],
      "metadata": {
        "id": "bJu6inEIgeeZ"
      },
      "execution_count": 2,
      "outputs": []
    },
    {
      "cell_type": "code",
      "source": [
        "#-- todo lo que sigue es el proceso para bajar de un folder público la información en CSV\n",
        "#-- importante saber que la dirección tiene que ser pública si no, pum! pura riatiñe\n",
        "url = 'https://drive.google.com/file/d/16uL_sLMRKuoYlUZ59N5hda4eLLJs0gs1/view?usp=sharing'\n",
        "file_id = url.split('/')[-2]\n",
        "dwn_url = 'https://drive.google.com/uc?export=download&id=' + file_id\n",
        "url_request = requests.get(dwn_url).text\n",
        "csv_raw = StringIO(url_request)\n",
        "df = pd.read_csv(csv_raw)"
      ],
      "metadata": {
        "colab": {
          "base_uri": "https://localhost:8080/"
        },
        "id": "3J2cBKg4gu85",
        "outputId": "0d37f16f-5ee3-480d-9a71-5a83217b9f32"
      },
      "execution_count": 3,
      "outputs": [
        {
          "output_type": "stream",
          "name": "stderr",
          "text": [
            "/usr/local/lib/python3.7/dist-packages/IPython/core/interactiveshell.py:3326: DtypeWarning: Columns (12,13,18) have mixed types.Specify dtype option on import or set low_memory=False.\n",
            "  exec(code_obj, self.user_global_ns, self.user_ns)\n"
          ]
        }
      ]
    },
    {
      "cell_type": "code",
      "source": [
        "#-- Es algo ilógico regresar el DataFrame a CSV pero para fines didácticos Spark lo hacemos\n",
        "#-- El CSV quedará en los archivos del entorno\n",
        "df.to_csv (r'FireCalls.csv', index = False, header=True)"
      ],
      "metadata": {
        "id": "BLJQ52YSt18E"
      },
      "execution_count": 4,
      "outputs": []
    },
    {
      "cell_type": "markdown",
      "source": [
        "# 2 - Arrancamos Spark ⭐"
      ],
      "metadata": {
        "id": "j4q7AYs5nUQp"
      }
    },
    {
      "cell_type": "code",
      "source": [
        "#--inicializamos la sesion\n",
        "spark = SparkSession.builder\\\n",
        "  .master('local[*]')\\\n",
        "  .appName('hello_world_spark')\\\n",
        "  .getOrCreate()\n",
        "\n",
        "#--probamos que spark se haya inicializado\n",
        "spark"
      ],
      "metadata": {
        "colab": {
          "base_uri": "https://localhost:8080/",
          "height": 219
        },
        "id": "u4mbN3oCnnGs",
        "outputId": "796ee4f7-1a66-4793-8caf-d489d328be23"
      },
      "execution_count": 5,
      "outputs": [
        {
          "output_type": "execute_result",
          "data": {
            "text/plain": [
              "<pyspark.sql.session.SparkSession at 0x7ff9644630d0>"
            ],
            "text/html": [
              "\n",
              "            <div>\n",
              "                <p><b>SparkSession - in-memory</b></p>\n",
              "                \n",
              "        <div>\n",
              "            <p><b>SparkContext</b></p>\n",
              "\n",
              "            <p><a href=\"http://8c4ba312547a:4040\">Spark UI</a></p>\n",
              "\n",
              "            <dl>\n",
              "              <dt>Version</dt>\n",
              "                <dd><code>v3.3.0</code></dd>\n",
              "              <dt>Master</dt>\n",
              "                <dd><code>local[*]</code></dd>\n",
              "              <dt>AppName</dt>\n",
              "                <dd><code>hello_world_spark</code></dd>\n",
              "            </dl>\n",
              "        </div>\n",
              "        \n",
              "            </div>\n",
              "        "
            ]
          },
          "metadata": {},
          "execution_count": 5
        }
      ]
    },
    {
      "cell_type": "code",
      "source": [
        "#--importamos librerías de python para definir fechas\n",
        "from datetime import datetime, date\n",
        "#--objeto de pyspark para modificar dataframes\n",
        "from pyspark.sql import Row\n",
        "from pyspark.sql.functions import *\n",
        "from pyspark.sql.types import *\n",
        "from pyspark.sql.functions import col, unix_timestamp, to_date, to_timestamp\n",
        "from pyspark.sql import functions as F"
      ],
      "metadata": {
        "id": "a9qYBuqAn4r_"
      },
      "execution_count": 43,
      "outputs": []
    },
    {
      "cell_type": "code",
      "source": [
        "#-- Llemos con Spark el CSV recien creado para empezar el análisis\n",
        "sdf = spark.read.csv('FireCalls.csv', header =True)"
      ],
      "metadata": {
        "id": "lkLcsnzzuUHG"
      },
      "execution_count": 7,
      "outputs": []
    },
    {
      "cell_type": "code",
      "source": [
        "#-- leo el Spark DataFrame\n",
        "sdf.show()"
      ],
      "metadata": {
        "colab": {
          "base_uri": "https://localhost:8080/"
        },
        "id": "2gONsd7KukB5",
        "outputId": "1d50a288-b336-4bfd-f5ab-342c5b8ad029"
      },
      "execution_count": 8,
      "outputs": [
        {
          "output_type": "stream",
          "name": "stdout",
          "text": [
            "+----------+------+--------------+----------------+----------+----------+--------------------+--------------------+--------------------+----+-------+---------+-----------+------+----------------+--------+-------------+-------+-------------+---------+--------------+--------------------------+----------------------+------------------+--------------------+--------------------+-------------+---------+\n",
            "|CallNumber|UnitID|IncidentNumber|        CallType|  CallDate| WatchDate|CallFinalDisposition|       AvailableDtTm|             Address|City|Zipcode|Battalion|StationArea|   Box|OriginalPriority|Priority|FinalPriority|ALSUnit|CallTypeGroup|NumAlarms|      UnitType|UnitSequenceInCallDispatch|FirePreventionDistrict|SupervisorDistrict|        Neighborhood|            Location|        RowID|    Delay|\n",
            "+----------+------+--------------+----------------+----------+----------+--------------------+--------------------+--------------------+----+-------+---------+-----------+------+----------------+--------+-------------+-------+-------------+---------+--------------+--------------------------+----------------------+------------------+--------------------+--------------------+-------------+---------+\n",
            "|  20110016|   T13|       2003235|  Structure Fire|01/11/2002|01/10/2002|               Other|01/11/2002 01:51:...|2000 Block of CAL...|  SF|94109.0|      B04|         38|3362.0|               3|       3|            3|  False|         null|        1|         TRUCK|                       2.0|                     4|                 5|     Pacific Heights|(37.7895840679362...|020110016-T13|     2.95|\n",
            "|  20110022|   M17|       2003241|Medical Incident|01/11/2002|01/10/2002|               Other|01/11/2002 03:01:...|0 Block of SILVER...|  SF|94124.0|      B10|         42|6495.0|               3|       3|            3|   True|         null|        1|         MEDIC|                       1.0|                    10|                10|Bayview Hunters P...|(37.7337623673897...|020110022-M17|      4.7|\n",
            "|  20110023|   M41|       2003242|Medical Incident|01/11/2002|01/10/2002|               Other|01/11/2002 02:39:...|MARKET ST/MCALLIS...|  SF|94102.0|      B03|          1|1455.0|               3|       3|            3|   True|         null|        1|         MEDIC|                       2.0|                     3|                 6|          Tenderloin|(37.7811772186856...|020110023-M41|2.4333334|\n",
            "|  20110032|   E11|       2003250|    Vehicle Fire|01/11/2002|01/10/2002|               Other|01/11/2002 04:16:...|APPLETON AV/MISSI...|  SF|94110.0|      B06|         32|5626.0|               3|       3|            3|  False|         null|        1|        ENGINE|                       1.0|                     6|                 9|      Bernal Heights|(37.7388432849018...|020110032-E11|      1.5|\n",
            "|  20110043|   B04|       2003259|          Alarms|01/11/2002|01/10/2002|               Other|01/11/2002 06:01:...|1400 Block of SUT...|  SF|94109.0|      B04|          3|3223.0|               3|       3|            3|  False|         null|        1|         CHIEF|                       2.0|                     4|                 2|    Western Addition|(37.7872890372638...|020110043-B04|3.4833333|\n",
            "|  20110072|   T08|       2003279|  Structure Fire|01/11/2002|01/11/2002|               Other|01/11/2002 08:03:...|  BEALE ST/FOLSOM ST|  SF|94105.0|      B03|         35|2122.0|               3|       3|            3|  False|         null|        1|         TRUCK|                       2.0|                     3|                 6|Financial Distric...|(37.7886866619654...|020110072-T08|     1.75|\n",
            "|  20110125|   E33|       2003301|          Alarms|01/11/2002|01/11/2002|               Other|01/11/2002 09:46:...|0 Block of FARALL...|  SF|94112.0|      B09|         33|8324.0|               3|       3|            3|  False|         null|        1|        ENGINE|                       2.0|                     9|                11|Oceanview/Merced/...|(37.7140353531157...|020110125-E33|2.7166667|\n",
            "|  20110130|   E36|       2003304|          Alarms|01/11/2002|01/11/2002|               Other|01/11/2002 09:58:...|600 Block of POLK ST|  SF|94102.0|      B02|          3|3114.0|               3|       3|            3|  False|         null|        1|        ENGINE|                       1.0|                     2|                 6|          Tenderloin|(37.7826266328595...|020110130-E36|1.7833333|\n",
            "|  20110197|   E05|       2003343|Medical Incident|01/11/2002|01/11/2002|               Other|01/11/2002 12:06:...|1500 Block of WEB...|  SF|94115.0|      B04|          5|3513.0|               3|       3|            3|  False|         null|        1|        ENGINE|                       1.0|                     4|                 5|           Japantown|(37.784958590666,...|020110197-E05|1.5166667|\n",
            "|  20110215|   E06|       2003348|Medical Incident|01/11/2002|01/11/2002|               Other|01/11/2002 01:08:...|DIAMOND ST/MARKET ST|  SF|94114.0|      B05|          6|5415.0|               3|       3|            3|  False|         null|        1|        ENGINE|                       1.0|                     5|                 8| Castro/Upper Market|(37.7618954753708...|020110215-E06|2.7666667|\n",
            "|  20110274|   M07|       2003381|Medical Incident|01/11/2002|01/11/2002|               Other|01/11/2002 03:31:...|2700 Block of MIS...|  SF|94110.0|      B06|         11|5525.0|               1|       1|            2|   True|         null|        1|         MEDIC|                       1.0|                     6|                 9|             Mission|(37.7530339738059...|020110274-M07|2.1833334|\n",
            "|  20110275|   T15|       2003382|  Structure Fire|01/11/2002|01/11/2002|               Other|01/11/2002 02:59:...|BRUNSWICK ST/GUTT...|  SF|94112.0|      B09|         43|6218.0|               3|       3|            3|  False|         null|        1|         TRUCK|                       1.0|                     9|                11|           Excelsior|(37.7105545807996...|020110275-T15|      2.5|\n",
            "|  20110304|   E03|       2003399|Medical Incident|01/11/2002|01/11/2002|               Other|01/11/2002 04:22:...|1000 Block of SUT...|  SF|94109.0|      B04|          3|1557.0|               3|       3|            3|  False|         null|        1|        ENGINE|                       1.0|                     4|                 3|            Nob Hill|(37.7881263034393...|020110304-E03|2.4166667|\n",
            "|  20110308|   E14|       2003403|Medical Incident|01/11/2002|01/11/2002|               Other|01/11/2002 04:18:...|100 Block of 21ST...|  SF|94121.0|      B07|         14|7173.0|               3|       3|            3|  False|         null|        1|        ENGINE|                       1.0|                     7|                 1|      Outer Richmond|(37.7850084431077...|020110308-E14|     4.95|\n",
            "|  20110313|   B10|       2003408|  Structure Fire|01/11/2002|01/11/2002|               Other|01/11/2002 04:09:...|700 Block of CAPP ST|  SF|94110.0|      B06|          7|5472.0|               3|       3|            3|  False|         null|        1|         CHIEF|                       6.0|                     6|                 9|             Mission|(37.7547064357942...|020110313-B10|1.4166666|\n",
            "|  20110313|    D3|       2003408|  Structure Fire|01/11/2002|01/11/2002|               Other|01/11/2002 04:09:...|700 Block of CAPP ST|  SF|94110.0|      B06|          7|5472.0|               3|       3|            3|  False|         null|        1|         CHIEF|                       4.0|                     6|                 9|             Mission|(37.7547064357942...| 020110313-D3|2.5333333|\n",
            "|  20110313|   E32|       2003408|  Structure Fire|01/11/2002|01/11/2002|               Other|01/11/2002 04:09:...|700 Block of CAPP ST|  SF|94110.0|      B06|          7|5472.0|               3|       3|            3|   True|         null|        1|        ENGINE|                       8.0|                     6|                 9|             Mission|(37.7547064357942...|020110313-E32|1.8833333|\n",
            "|  20110315|   RC2|       2003409|Medical Incident|01/11/2002|01/11/2002|               Other|01/11/2002 04:34:...|200 Block of LAGU...|  SF|94116.0|      B08|         20|8635.0|               3|       3|            3|   True|         null|        1|RESCUE CAPTAIN|                       2.0|                     8|                 7|  West of Twin Peaks|(37.7501117393668...|020110315-RC2|     5.35|\n",
            "|  20110330|   E14|       2003417|Medical Incident|01/11/2002|01/11/2002|               Other|01/11/2002 04:51:...|BALBOA ST/PARK PR...|  SF|94118.0|      B07|         31|7145.0|               3|       3|            3|  False|         null|        1|        ENGINE|                       1.0|                     7|                 1|      Inner Richmond|(37.7768682293368...|020110330-E14|      2.0|\n",
            "|  20110330|   M12|       2003417|Medical Incident|01/11/2002|01/11/2002|               Other|01/11/2002 04:51:...|BALBOA ST/PARK PR...|  SF|94118.0|      B07|         31|7145.0|               3|       3|            3|   True|         null|        1|         MEDIC|                       2.0|                     7|                 1|      Inner Richmond|(37.7768682293368...|020110330-M12|1.8166667|\n",
            "+----------+------+--------------+----------------+----------+----------+--------------------+--------------------+--------------------+----+-------+---------+-----------+------+----------------+--------+-------------+-------+-------------+---------+--------------+--------------------------+----------------------+------------------+--------------------+--------------------+-------------+---------+\n",
            "only showing top 20 rows\n",
            "\n"
          ]
        }
      ]
    },
    {
      "cell_type": "code",
      "source": [
        "#-- Leo el CSV con Spark solo para ver que las 2 tablas son iguales\n",
        "spark.read.csv('FireCalls.csv', header = True).show()"
      ],
      "metadata": {
        "colab": {
          "base_uri": "https://localhost:8080/"
        },
        "id": "xDCcKZIUu9Yr",
        "outputId": "a58a546d-7741-45c2-d067-d835c1ab22fc"
      },
      "execution_count": 9,
      "outputs": [
        {
          "output_type": "stream",
          "name": "stdout",
          "text": [
            "+----------+------+--------------+----------------+----------+----------+--------------------+--------------------+--------------------+----+-------+---------+-----------+------+----------------+--------+-------------+-------+-------------+---------+--------------+--------------------------+----------------------+------------------+--------------------+--------------------+-------------+---------+\n",
            "|CallNumber|UnitID|IncidentNumber|        CallType|  CallDate| WatchDate|CallFinalDisposition|       AvailableDtTm|             Address|City|Zipcode|Battalion|StationArea|   Box|OriginalPriority|Priority|FinalPriority|ALSUnit|CallTypeGroup|NumAlarms|      UnitType|UnitSequenceInCallDispatch|FirePreventionDistrict|SupervisorDistrict|        Neighborhood|            Location|        RowID|    Delay|\n",
            "+----------+------+--------------+----------------+----------+----------+--------------------+--------------------+--------------------+----+-------+---------+-----------+------+----------------+--------+-------------+-------+-------------+---------+--------------+--------------------------+----------------------+------------------+--------------------+--------------------+-------------+---------+\n",
            "|  20110016|   T13|       2003235|  Structure Fire|01/11/2002|01/10/2002|               Other|01/11/2002 01:51:...|2000 Block of CAL...|  SF|94109.0|      B04|         38|3362.0|               3|       3|            3|  False|         null|        1|         TRUCK|                       2.0|                     4|                 5|     Pacific Heights|(37.7895840679362...|020110016-T13|     2.95|\n",
            "|  20110022|   M17|       2003241|Medical Incident|01/11/2002|01/10/2002|               Other|01/11/2002 03:01:...|0 Block of SILVER...|  SF|94124.0|      B10|         42|6495.0|               3|       3|            3|   True|         null|        1|         MEDIC|                       1.0|                    10|                10|Bayview Hunters P...|(37.7337623673897...|020110022-M17|      4.7|\n",
            "|  20110023|   M41|       2003242|Medical Incident|01/11/2002|01/10/2002|               Other|01/11/2002 02:39:...|MARKET ST/MCALLIS...|  SF|94102.0|      B03|          1|1455.0|               3|       3|            3|   True|         null|        1|         MEDIC|                       2.0|                     3|                 6|          Tenderloin|(37.7811772186856...|020110023-M41|2.4333334|\n",
            "|  20110032|   E11|       2003250|    Vehicle Fire|01/11/2002|01/10/2002|               Other|01/11/2002 04:16:...|APPLETON AV/MISSI...|  SF|94110.0|      B06|         32|5626.0|               3|       3|            3|  False|         null|        1|        ENGINE|                       1.0|                     6|                 9|      Bernal Heights|(37.7388432849018...|020110032-E11|      1.5|\n",
            "|  20110043|   B04|       2003259|          Alarms|01/11/2002|01/10/2002|               Other|01/11/2002 06:01:...|1400 Block of SUT...|  SF|94109.0|      B04|          3|3223.0|               3|       3|            3|  False|         null|        1|         CHIEF|                       2.0|                     4|                 2|    Western Addition|(37.7872890372638...|020110043-B04|3.4833333|\n",
            "|  20110072|   T08|       2003279|  Structure Fire|01/11/2002|01/11/2002|               Other|01/11/2002 08:03:...|  BEALE ST/FOLSOM ST|  SF|94105.0|      B03|         35|2122.0|               3|       3|            3|  False|         null|        1|         TRUCK|                       2.0|                     3|                 6|Financial Distric...|(37.7886866619654...|020110072-T08|     1.75|\n",
            "|  20110125|   E33|       2003301|          Alarms|01/11/2002|01/11/2002|               Other|01/11/2002 09:46:...|0 Block of FARALL...|  SF|94112.0|      B09|         33|8324.0|               3|       3|            3|  False|         null|        1|        ENGINE|                       2.0|                     9|                11|Oceanview/Merced/...|(37.7140353531157...|020110125-E33|2.7166667|\n",
            "|  20110130|   E36|       2003304|          Alarms|01/11/2002|01/11/2002|               Other|01/11/2002 09:58:...|600 Block of POLK ST|  SF|94102.0|      B02|          3|3114.0|               3|       3|            3|  False|         null|        1|        ENGINE|                       1.0|                     2|                 6|          Tenderloin|(37.7826266328595...|020110130-E36|1.7833333|\n",
            "|  20110197|   E05|       2003343|Medical Incident|01/11/2002|01/11/2002|               Other|01/11/2002 12:06:...|1500 Block of WEB...|  SF|94115.0|      B04|          5|3513.0|               3|       3|            3|  False|         null|        1|        ENGINE|                       1.0|                     4|                 5|           Japantown|(37.784958590666,...|020110197-E05|1.5166667|\n",
            "|  20110215|   E06|       2003348|Medical Incident|01/11/2002|01/11/2002|               Other|01/11/2002 01:08:...|DIAMOND ST/MARKET ST|  SF|94114.0|      B05|          6|5415.0|               3|       3|            3|  False|         null|        1|        ENGINE|                       1.0|                     5|                 8| Castro/Upper Market|(37.7618954753708...|020110215-E06|2.7666667|\n",
            "|  20110274|   M07|       2003381|Medical Incident|01/11/2002|01/11/2002|               Other|01/11/2002 03:31:...|2700 Block of MIS...|  SF|94110.0|      B06|         11|5525.0|               1|       1|            2|   True|         null|        1|         MEDIC|                       1.0|                     6|                 9|             Mission|(37.7530339738059...|020110274-M07|2.1833334|\n",
            "|  20110275|   T15|       2003382|  Structure Fire|01/11/2002|01/11/2002|               Other|01/11/2002 02:59:...|BRUNSWICK ST/GUTT...|  SF|94112.0|      B09|         43|6218.0|               3|       3|            3|  False|         null|        1|         TRUCK|                       1.0|                     9|                11|           Excelsior|(37.7105545807996...|020110275-T15|      2.5|\n",
            "|  20110304|   E03|       2003399|Medical Incident|01/11/2002|01/11/2002|               Other|01/11/2002 04:22:...|1000 Block of SUT...|  SF|94109.0|      B04|          3|1557.0|               3|       3|            3|  False|         null|        1|        ENGINE|                       1.0|                     4|                 3|            Nob Hill|(37.7881263034393...|020110304-E03|2.4166667|\n",
            "|  20110308|   E14|       2003403|Medical Incident|01/11/2002|01/11/2002|               Other|01/11/2002 04:18:...|100 Block of 21ST...|  SF|94121.0|      B07|         14|7173.0|               3|       3|            3|  False|         null|        1|        ENGINE|                       1.0|                     7|                 1|      Outer Richmond|(37.7850084431077...|020110308-E14|     4.95|\n",
            "|  20110313|   B10|       2003408|  Structure Fire|01/11/2002|01/11/2002|               Other|01/11/2002 04:09:...|700 Block of CAPP ST|  SF|94110.0|      B06|          7|5472.0|               3|       3|            3|  False|         null|        1|         CHIEF|                       6.0|                     6|                 9|             Mission|(37.7547064357942...|020110313-B10|1.4166666|\n",
            "|  20110313|    D3|       2003408|  Structure Fire|01/11/2002|01/11/2002|               Other|01/11/2002 04:09:...|700 Block of CAPP ST|  SF|94110.0|      B06|          7|5472.0|               3|       3|            3|  False|         null|        1|         CHIEF|                       4.0|                     6|                 9|             Mission|(37.7547064357942...| 020110313-D3|2.5333333|\n",
            "|  20110313|   E32|       2003408|  Structure Fire|01/11/2002|01/11/2002|               Other|01/11/2002 04:09:...|700 Block of CAPP ST|  SF|94110.0|      B06|          7|5472.0|               3|       3|            3|   True|         null|        1|        ENGINE|                       8.0|                     6|                 9|             Mission|(37.7547064357942...|020110313-E32|1.8833333|\n",
            "|  20110315|   RC2|       2003409|Medical Incident|01/11/2002|01/11/2002|               Other|01/11/2002 04:34:...|200 Block of LAGU...|  SF|94116.0|      B08|         20|8635.0|               3|       3|            3|   True|         null|        1|RESCUE CAPTAIN|                       2.0|                     8|                 7|  West of Twin Peaks|(37.7501117393668...|020110315-RC2|     5.35|\n",
            "|  20110330|   E14|       2003417|Medical Incident|01/11/2002|01/11/2002|               Other|01/11/2002 04:51:...|BALBOA ST/PARK PR...|  SF|94118.0|      B07|         31|7145.0|               3|       3|            3|  False|         null|        1|        ENGINE|                       1.0|                     7|                 1|      Inner Richmond|(37.7768682293368...|020110330-E14|      2.0|\n",
            "|  20110330|   M12|       2003417|Medical Incident|01/11/2002|01/11/2002|               Other|01/11/2002 04:51:...|BALBOA ST/PARK PR...|  SF|94118.0|      B07|         31|7145.0|               3|       3|            3|   True|         null|        1|         MEDIC|                       2.0|                     7|                 1|      Inner Richmond|(37.7768682293368...|020110330-M12|1.8166667|\n",
            "+----------+------+--------------+----------------+----------+----------+--------------------+--------------------+--------------------+----+-------+---------+-----------+------+----------------+--------+-------------+-------+-------------+---------+--------------+--------------------------+----------------------+------------------+--------------------+--------------------+-------------+---------+\n",
            "only showing top 20 rows\n",
            "\n"
          ]
        }
      ]
    },
    {
      "cell_type": "code",
      "source": [
        "#--vemos los tipos de datos que tenemos en nuestro data frame de spark\n",
        "sdf.dtypes"
      ],
      "metadata": {
        "colab": {
          "base_uri": "https://localhost:8080/"
        },
        "id": "0YIfzG3P_0i8",
        "outputId": "aa4f4b8e-434d-46cd-fc36-df88ccc29c77"
      },
      "execution_count": 36,
      "outputs": [
        {
          "output_type": "execute_result",
          "data": {
            "text/plain": [
              "[('CallNumber', 'string'),\n",
              " ('UnitID', 'string'),\n",
              " ('IncidentNumber', 'string'),\n",
              " ('CallType', 'string'),\n",
              " ('CallDate', 'string'),\n",
              " ('WatchDate', 'string'),\n",
              " ('CallFinalDisposition', 'string'),\n",
              " ('AvailableDtTm', 'string'),\n",
              " ('Address', 'string'),\n",
              " ('City', 'string'),\n",
              " ('Zipcode', 'string'),\n",
              " ('Battalion', 'string'),\n",
              " ('StationArea', 'string'),\n",
              " ('Box', 'string'),\n",
              " ('OriginalPriority', 'string'),\n",
              " ('Priority', 'string'),\n",
              " ('FinalPriority', 'string'),\n",
              " ('ALSUnit', 'string'),\n",
              " ('CallTypeGroup', 'string'),\n",
              " ('NumAlarms', 'string'),\n",
              " ('UnitType', 'string'),\n",
              " ('UnitSequenceInCallDispatch', 'string'),\n",
              " ('FirePreventionDistrict', 'string'),\n",
              " ('SupervisorDistrict', 'string'),\n",
              " ('Neighborhood', 'string'),\n",
              " ('Location', 'string'),\n",
              " ('RowID', 'string'),\n",
              " ('Delay', 'string')]"
            ]
          },
          "metadata": {},
          "execution_count": 36
        }
      ]
    },
    {
      "cell_type": "code",
      "source": [
        "#-- contamos el número de filas que tenemos o datos\n",
        "sdf.count()"
      ],
      "metadata": {
        "colab": {
          "base_uri": "https://localhost:8080/"
        },
        "id": "Lkdas21ZMtJW",
        "outputId": "d913b3bf-153d-4b00-c6db-fd24af70e817"
      },
      "execution_count": 37,
      "outputs": [
        {
          "output_type": "execute_result",
          "data": {
            "text/plain": [
              "175296"
            ]
          },
          "metadata": {},
          "execution_count": 37
        }
      ]
    },
    {
      "cell_type": "code",
      "source": [
        "#--- imprimimos el esquema \n",
        "sdf.printSchema()"
      ],
      "metadata": {
        "colab": {
          "base_uri": "https://localhost:8080/"
        },
        "id": "-LZbNboAMvHO",
        "outputId": "80d02374-56af-4a8e-b6f3-7497d35b5c9b"
      },
      "execution_count": 38,
      "outputs": [
        {
          "output_type": "stream",
          "name": "stdout",
          "text": [
            "root\n",
            " |-- CallNumber: string (nullable = true)\n",
            " |-- UnitID: string (nullable = true)\n",
            " |-- IncidentNumber: string (nullable = true)\n",
            " |-- CallType: string (nullable = true)\n",
            " |-- CallDate: string (nullable = true)\n",
            " |-- WatchDate: string (nullable = true)\n",
            " |-- CallFinalDisposition: string (nullable = true)\n",
            " |-- AvailableDtTm: string (nullable = true)\n",
            " |-- Address: string (nullable = true)\n",
            " |-- City: string (nullable = true)\n",
            " |-- Zipcode: string (nullable = true)\n",
            " |-- Battalion: string (nullable = true)\n",
            " |-- StationArea: string (nullable = true)\n",
            " |-- Box: string (nullable = true)\n",
            " |-- OriginalPriority: string (nullable = true)\n",
            " |-- Priority: string (nullable = true)\n",
            " |-- FinalPriority: string (nullable = true)\n",
            " |-- ALSUnit: string (nullable = true)\n",
            " |-- CallTypeGroup: string (nullable = true)\n",
            " |-- NumAlarms: string (nullable = true)\n",
            " |-- UnitType: string (nullable = true)\n",
            " |-- UnitSequenceInCallDispatch: string (nullable = true)\n",
            " |-- FirePreventionDistrict: string (nullable = true)\n",
            " |-- SupervisorDistrict: string (nullable = true)\n",
            " |-- Neighborhood: string (nullable = true)\n",
            " |-- Location: string (nullable = true)\n",
            " |-- RowID: string (nullable = true)\n",
            " |-- Delay: string (nullable = true)\n",
            "\n"
          ]
        }
      ]
    },
    {
      "cell_type": "code",
      "source": [
        "#-- aquí hago un nuevo dataframe porque los tiempos están en String y no en Tiempo\n",
        "fuego = (sdf\n",
        " .withColumn(\"IncidentDate\",to_date(col(\"CallDate\"),\"MM/dd/yyyy\")).drop(\"CallDate\")\n",
        " .withColumn(\"OnWatchDate\",to_date(col(\"WatchDate\"),\"MM/dd/yyyy\")).drop(\"WatchDate\")\n",
        " .withColumn(\"AvailableDtTs\",to_timestamp(col(\"AvailableDtTm\"),\"MM/dd/yyyy hh:mm:ss a\")).drop(\"AvailableDtTm\")\n",
        ")\n",
        "\n",
        "fuego.printSchema()"
      ],
      "metadata": {
        "colab": {
          "base_uri": "https://localhost:8080/"
        },
        "id": "qv1VSZjzNEi7",
        "outputId": "387435ee-71ee-4909-9d95-1d3facab987e"
      },
      "execution_count": 39,
      "outputs": [
        {
          "output_type": "stream",
          "name": "stdout",
          "text": [
            "root\n",
            " |-- CallNumber: string (nullable = true)\n",
            " |-- UnitID: string (nullable = true)\n",
            " |-- IncidentNumber: string (nullable = true)\n",
            " |-- CallType: string (nullable = true)\n",
            " |-- CallFinalDisposition: string (nullable = true)\n",
            " |-- Address: string (nullable = true)\n",
            " |-- City: string (nullable = true)\n",
            " |-- Zipcode: string (nullable = true)\n",
            " |-- Battalion: string (nullable = true)\n",
            " |-- StationArea: string (nullable = true)\n",
            " |-- Box: string (nullable = true)\n",
            " |-- OriginalPriority: string (nullable = true)\n",
            " |-- Priority: string (nullable = true)\n",
            " |-- FinalPriority: string (nullable = true)\n",
            " |-- ALSUnit: string (nullable = true)\n",
            " |-- CallTypeGroup: string (nullable = true)\n",
            " |-- NumAlarms: string (nullable = true)\n",
            " |-- UnitType: string (nullable = true)\n",
            " |-- UnitSequenceInCallDispatch: string (nullable = true)\n",
            " |-- FirePreventionDistrict: string (nullable = true)\n",
            " |-- SupervisorDistrict: string (nullable = true)\n",
            " |-- Neighborhood: string (nullable = true)\n",
            " |-- Location: string (nullable = true)\n",
            " |-- RowID: string (nullable = true)\n",
            " |-- Delay: string (nullable = true)\n",
            " |-- IncidentDate: date (nullable = true)\n",
            " |-- OnWatchDate: date (nullable = true)\n",
            " |-- AvailableDtTs: timestamp (nullable = true)\n",
            "\n"
          ]
        }
      ]
    },
    {
      "cell_type": "markdown",
      "source": [],
      "metadata": {
        "id": "mtsZpd3NOre4"
      }
    },
    {
      "cell_type": "markdown",
      "source": [
        "# 3 - Responder Preguntas 1 a 1 ✍"
      ],
      "metadata": {
        "id": "JOTKDzkMwAKe"
      }
    },
    {
      "cell_type": "markdown",
      "source": [
        "¿Cuáles fueron los diferentes tipos de llamadas que hubo en 2018?"
      ],
      "metadata": {
        "id": "4rqjGGxdwLtC"
      }
    },
    {
      "cell_type": "code",
      "source": [
        "fuego.filter(year(\"IncidentDate\")==2018).groupBy(\"CallType\") \\\n",
        ".count().orderBy(\"count\",ascending=False).show()"
      ],
      "metadata": {
        "colab": {
          "base_uri": "https://localhost:8080/"
        },
        "id": "kkpF-HG8Ob25",
        "outputId": "de212009-271a-4dfe-fed1-137a468cbae5"
      },
      "execution_count": 133,
      "outputs": [
        {
          "output_type": "stream",
          "name": "stdout",
          "text": [
            "+--------------------+-----+\n",
            "|            CallType|count|\n",
            "+--------------------+-----+\n",
            "|    Medical Incident| 7004|\n",
            "|              Alarms| 1144|\n",
            "|      Structure Fire|  906|\n",
            "|   Traffic Collision|  433|\n",
            "|        Outside Fire|  153|\n",
            "|               Other|  114|\n",
            "|Citizen Assist / ...|  113|\n",
            "|Gas Leak (Natural...|   69|\n",
            "|        Water Rescue|   43|\n",
            "|Elevator / Escala...|   36|\n",
            "|   Electrical Hazard|   30|\n",
            "|        Vehicle Fire|   28|\n",
            "|Smoke Investigati...|   28|\n",
            "|          Fuel Spill|   10|\n",
            "|Odor (Strange / U...|   10|\n",
            "|              HazMat|    5|\n",
            "|Train / Rail Inci...|    5|\n",
            "|  Suspicious Package|    3|\n",
            "|       Assist Police|    1|\n",
            "|           Explosion|    1|\n",
            "+--------------------+-----+\n",
            "\n"
          ]
        }
      ]
    },
    {
      "cell_type": "markdown",
      "source": [
        "¿Qué mes de 2018 fue el que tuvo un número mayor de llamadas?"
      ],
      "metadata": {
        "id": "5_X9a0qBQGPc"
      }
    },
    {
      "cell_type": "code",
      "source": [
        "fuego.filter(year(\"IncidentDate\")==2018) \\\n",
        ".groupBy(month(\"IncidentDate\")).count() \\\n",
        ".orderBy(\"count\",ascending=False).show()"
      ],
      "metadata": {
        "colab": {
          "base_uri": "https://localhost:8080/"
        },
        "id": "tHjlaLEyQ088",
        "outputId": "62e9537a-7ceb-47d1-c326-d744ee31684a"
      },
      "execution_count": 134,
      "outputs": [
        {
          "output_type": "stream",
          "name": "stdout",
          "text": [
            "+-------------------+-----+\n",
            "|month(IncidentDate)|count|\n",
            "+-------------------+-----+\n",
            "|                 10| 1068|\n",
            "|                  5| 1047|\n",
            "|                  3| 1029|\n",
            "|                  8| 1021|\n",
            "|                  1| 1007|\n",
            "|                  7|  974|\n",
            "|                  6|  974|\n",
            "|                  9|  951|\n",
            "|                  4|  947|\n",
            "|                  2|  919|\n",
            "|                 11|  199|\n",
            "+-------------------+-----+\n",
            "\n"
          ]
        }
      ]
    },
    {
      "cell_type": "markdown",
      "source": [
        "¿Cuál vecindario de San Francisco fue el que realizó el mayor número de llamadas en 2018?"
      ],
      "metadata": {
        "id": "LQrhhxhWRriv"
      }
    },
    {
      "cell_type": "code",
      "source": [
        "fuego.filter(year(\"IncidentDate\")==2018) \\\n",
        ".groupBy(\"Neighborhood\").count() \\\n",
        ".orderBy(\"count\",ascending=False).show()"
      ],
      "metadata": {
        "colab": {
          "base_uri": "https://localhost:8080/"
        },
        "id": "Q1B0a0T_SB_0",
        "outputId": "62b83400-3718-4e88-81b3-6b012342cdd2"
      },
      "execution_count": 135,
      "outputs": [
        {
          "output_type": "stream",
          "name": "stdout",
          "text": [
            "+--------------------+-----+\n",
            "|        Neighborhood|count|\n",
            "+--------------------+-----+\n",
            "|          Tenderloin| 1393|\n",
            "|     South of Market| 1053|\n",
            "|             Mission|  913|\n",
            "|Financial Distric...|  772|\n",
            "|Bayview Hunters P...|  522|\n",
            "|    Western Addition|  352|\n",
            "|     Sunset/Parkside|  346|\n",
            "|            Nob Hill|  295|\n",
            "|        Hayes Valley|  291|\n",
            "|      Outer Richmond|  262|\n",
            "| Castro/Upper Market|  251|\n",
            "|         North Beach|  231|\n",
            "|           Excelsior|  212|\n",
            "|        Potrero Hill|  210|\n",
            "|  West of Twin Peaks|  210|\n",
            "|     Pacific Heights|  191|\n",
            "|              Marina|  191|\n",
            "|           Chinatown|  191|\n",
            "|         Mission Bay|  178|\n",
            "|      Bernal Heights|  170|\n",
            "+--------------------+-----+\n",
            "only showing top 20 rows\n",
            "\n"
          ]
        }
      ]
    },
    {
      "cell_type": "markdown",
      "source": [
        "Cuáles vecindarios tuvieron el peor tiempo de respuesta a las llamadas en 2018?"
      ],
      "metadata": {
        "id": "7Um-xJhmTAGX"
      }
    },
    {
      "cell_type": "code",
      "source": [
        "fuego.select(\"Neighborhood\",\"Delay\") \\\n",
        ".filter(year(\"IncidentDate\") == 2018) \\\n",
        ".orderBy(\"Delay\",ascending=False).show()"
      ],
      "metadata": {
        "colab": {
          "base_uri": "https://localhost:8080/"
        },
        "id": "P9zvKQuaTz6h",
        "outputId": "167414cd-5d19-4d79-dc87-335066a0613e"
      },
      "execution_count": 137,
      "outputs": [
        {
          "output_type": "stream",
          "name": "stdout",
          "text": [
            "+--------------------+---------+\n",
            "|        Neighborhood|    Delay|\n",
            "+--------------------+---------+\n",
            "|     South of Market| 94.71667|\n",
            "|Bayview Hunters P...|92.816666|\n",
            "|     South of Market|91.666664|\n",
            "|      Inner Richmond|90.433334|\n",
            "|        Russian Hill| 9.983334|\n",
            "|             Mission|     9.95|\n",
            "|    Golden Gate Park| 9.933333|\n",
            "|     South of Market| 9.933333|\n",
            "|        Potrero Hill| 9.916667|\n",
            "|           Chinatown|      9.9|\n",
            "|             Portola| 9.866667|\n",
            "|         Mission Bay|     9.85|\n",
            "|        Inner Sunset| 9.816667|\n",
            "|Financial Distric...|      9.8|\n",
            "|      Bernal Heights| 9.783334|\n",
            "|      Bernal Heights| 9.766666|\n",
            "| Castro/Upper Market| 9.733334|\n",
            "|             Portola| 9.683333|\n",
            "|     South of Market| 9.666667|\n",
            "|Bayview Hunters P...| 9.666667|\n",
            "+--------------------+---------+\n",
            "only showing top 20 rows\n",
            "\n"
          ]
        }
      ]
    },
    {
      "cell_type": "code",
      "source": [],
      "metadata": {
        "id": "AhXDr6myvzox"
      },
      "execution_count": null,
      "outputs": []
    },
    {
      "cell_type": "code",
      "source": [],
      "metadata": {
        "id": "alu3rq7gvvNX"
      },
      "execution_count": null,
      "outputs": []
    },
    {
      "cell_type": "code",
      "source": [
        "fuego.select(min(\"Delay\"),mean(\"Delay\"),max(\"Delay\")).show()"
      ],
      "metadata": {
        "colab": {
          "base_uri": "https://localhost:8080/"
        },
        "id": "TbEx0G5BYZbY",
        "outputId": "587cf48a-1de4-4028-f93a-673b0d136273"
      },
      "execution_count": 62,
      "outputs": [
        {
          "output_type": "stream",
          "name": "stdout",
          "text": [
            "+-----------+------------------+----------+\n",
            "| min(Delay)|        avg(Delay)|max(Delay)|\n",
            "+-----------+------------------+----------+\n",
            "|0.016666668|3.8923641541750356|      99.9|\n",
            "+-----------+------------------+----------+\n",
            "\n"
          ]
        }
      ]
    },
    {
      "cell_type": "markdown",
      "source": [
        "¿Cuál semana del 2018 tuvo el mayor número de llamadas?"
      ],
      "metadata": {
        "id": "OkT6EsLGYzja"
      }
    },
    {
      "cell_type": "code",
      "source": [
        "fuego.filter(year(\"IncidentDate\")==2018)\n",
        ".groupBy(weekofyear(\"IncidentDate\")).count()\n",
        ".orderBy(\"count\",ascending=False).show(10,False)"
      ],
      "metadata": {
        "colab": {
          "base_uri": "https://localhost:8080/"
        },
        "id": "CdrJF3L-ZNMb",
        "outputId": "75ef415b-9b71-414e-8535-6615a85fd47e"
      },
      "execution_count": 63,
      "outputs": [
        {
          "output_type": "stream",
          "name": "stdout",
          "text": [
            "+------------------------+-----+\n",
            "|weekofyear(IncidentDate)|count|\n",
            "+------------------------+-----+\n",
            "|22                      |259  |\n",
            "|40                      |255  |\n",
            "|43                      |250  |\n",
            "|25                      |249  |\n",
            "|1                       |246  |\n",
            "|44                      |244  |\n",
            "|32                      |243  |\n",
            "|13                      |243  |\n",
            "|11                      |240  |\n",
            "|18                      |236  |\n",
            "+------------------------+-----+\n",
            "only showing top 10 rows\n",
            "\n"
          ]
        }
      ]
    },
    {
      "cell_type": "markdown",
      "source": [
        "¿Existe alguna correlación entre los vecindarios, códigos postales y número de llamadas?"
      ],
      "metadata": {
        "id": "vDTZ712mcos9"
      }
    },
    {
      "cell_type": "code",
      "source": [
        "#-- Hay evidencia que en un zip code hay varios neighborhoods\n",
        "fuego.select(\"ZipCode\").distinct().count()"
      ],
      "metadata": {
        "colab": {
          "base_uri": "https://localhost:8080/"
        },
        "id": "koqupf_rcipL",
        "outputId": "1a0117dc-effe-4c72-acc6-49b204912fac"
      },
      "execution_count": 69,
      "outputs": [
        {
          "output_type": "execute_result",
          "data": {
            "text/plain": [
              "28"
            ]
          },
          "metadata": {},
          "execution_count": 69
        }
      ]
    },
    {
      "cell_type": "code",
      "source": [
        "#-- Hay evidencia que en un neighborhood hay varios zips (OH GOd!)\n",
        "fuego.select(\"Neighborhood\").distinct().count()"
      ],
      "metadata": {
        "colab": {
          "base_uri": "https://localhost:8080/"
        },
        "id": "J6qNxbZDdetM",
        "outputId": "481f376c-47cb-4a89-d3d8-41880e2060a5"
      },
      "execution_count": 70,
      "outputs": [
        {
          "output_type": "execute_result",
          "data": {
            "text/plain": [
              "42"
            ]
          },
          "metadata": {},
          "execution_count": 70
        }
      ]
    },
    {
      "cell_type": "code",
      "source": [
        "#--Empezamos con una agrupación y creamos una tablita sencilla para exportarlo a PANDITAS\n",
        "a = fuego.groupby(\"ZipCode\").agg(countDistinct('Neighborhood'),count('IncidentNumber')) \\\n",
        ".orderBy(count('IncidentNumber'),ascending=False)\n",
        "a.show(28,False)"
      ],
      "metadata": {
        "colab": {
          "base_uri": "https://localhost:8080/"
        },
        "id": "MlioD7E-eRxt",
        "outputId": "b639cd5c-8cb2-4ab0-e506-a42c4ebed8b0"
      },
      "execution_count": 138,
      "outputs": [
        {
          "output_type": "stream",
          "name": "stdout",
          "text": [
            "+-------+-------------------+---------------------+\n",
            "|ZipCode|count(Neighborhood)|count(IncidentNumber)|\n",
            "+-------+-------------------+---------------------+\n",
            "|94102.0|6                  |21840                |\n",
            "|94103.0|8                  |20897                |\n",
            "|94110.0|6                  |14801                |\n",
            "|94109.0|7                  |14686                |\n",
            "|94124.0|5                  |9236                 |\n",
            "|94112.0|6                  |8421                 |\n",
            "|94115.0|6                  |7812                 |\n",
            "|94107.0|5                  |6941                 |\n",
            "|94122.0|6                  |6355                 |\n",
            "|94133.0|4                  |6246                 |\n",
            "|94117.0|7                  |5804                 |\n",
            "|94114.0|7                  |5175                 |\n",
            "|94118.0|7                  |5157                 |\n",
            "|94134.0|6                  |5009                 |\n",
            "|94121.0|4                  |4555                 |\n",
            "|94132.0|4                  |4321                 |\n",
            "|94105.0|2                  |4236                 |\n",
            "|94108.0|3                  |4084                 |\n",
            "|94116.0|3                  |3933                 |\n",
            "|94123.0|3                  |3719                 |\n",
            "|94131.0|6                  |3236                 |\n",
            "|94111.0|3                  |2974                 |\n",
            "|94127.0|3                  |1881                 |\n",
            "|94104.0|2                  |1341                 |\n",
            "|94130.0|1                  |1100                 |\n",
            "|94158.0|3                  |882                  |\n",
            "|94129.0|2                  |512                  |\n",
            "|null   |2                  |142                  |\n",
            "+-------+-------------------+---------------------+\n",
            "\n"
          ]
        }
      ]
    },
    {
      "cell_type": "code",
      "source": [],
      "metadata": {
        "id": "zQiQsay4wuHf"
      },
      "execution_count": null,
      "outputs": []
    },
    {
      "cell_type": "code",
      "source": [
        "#--Empezamos con una agrupación y creamos una tablita sencilla para exportarlo a PANDITAS\n",
        "b = fuego.groupby(\"Neighborhood\").agg(countDistinct('ZipCode'),count('IncidentNumber')).orderBy(count('IncidentNumber'),ascending=False)\n",
        "b.show(42,False)"
      ],
      "metadata": {
        "colab": {
          "base_uri": "https://localhost:8080/"
        },
        "id": "0eJ9QZkwjN8F",
        "outputId": "7a1511ac-f57a-4d6d-a147-e2e14c61a424"
      },
      "execution_count": 95,
      "outputs": [
        {
          "output_type": "stream",
          "name": "stdout",
          "text": [
            "+------------------------------+--------------+---------------------+\n",
            "|Neighborhood                  |count(ZipCode)|count(IncidentNumber)|\n",
            "+------------------------------+--------------+---------------------+\n",
            "|Tenderloin                    |3             |22785                |\n",
            "|South of Market               |4             |16623                |\n",
            "|Mission                       |3             |15912                |\n",
            "|Financial District/South Beach|7             |11912                |\n",
            "|Bayview Hunters Point         |3             |9616                 |\n",
            "|Sunset/Parkside               |3             |6984                 |\n",
            "|Western Addition              |4             |6591                 |\n",
            "|Nob Hill                      |4             |5810                 |\n",
            "|Outer Richmond                |3             |4604                 |\n",
            "|Hayes Valley                  |4             |4357                 |\n",
            "|Castro/Upper Market           |5             |4176                 |\n",
            "|West of Twin Peaks            |5             |4005                 |\n",
            "|North Beach                   |2             |3800                 |\n",
            "|Chinatown                     |4             |3731                 |\n",
            "|Excelsior                     |2             |3643                 |\n",
            "|Pacific Heights               |3             |3622                 |\n",
            "|Marina                        |2             |3415                 |\n",
            "|Potrero Hill                  |5             |3321                 |\n",
            "|Bernal Heights                |3             |3260                 |\n",
            "|Inner Sunset                  |5             |2959                 |\n",
            "|Russian Hill                  |2             |2704                 |\n",
            "|Lakeshore                     |1             |2658                 |\n",
            "|Haight Ashbury                |2             |2619                 |\n",
            "|Outer Mission                 |1             |2608                 |\n",
            "|Oceanview/Merced/Ingleside    |3             |2536                 |\n",
            "|Visitacion Valley             |1             |2436                 |\n",
            "|Inner Richmond                |2             |2428                 |\n",
            "|Lone Mountain/USF             |4             |2105                 |\n",
            "|Mission Bay                   |3             |1924                 |\n",
            "|Noe Valley                    |3             |1874                 |\n",
            "|Portola                       |2             |1695                 |\n",
            "|Presidio Heights              |3             |1625                 |\n",
            "|Japantown                     |2             |1568                 |\n",
            "|Treasure Island               |1             |1100                 |\n",
            "|Golden Gate Park              |4             |1038                 |\n",
            "|Twin Peaks                    |3             |1032                 |\n",
            "|Glen Park                     |2             |844                  |\n",
            "|Presidio                      |4             |555                  |\n",
            "|Seacliff                      |2             |260                  |\n",
            "|McLaren Park                  |2             |207                  |\n",
            "|None                          |3             |188                  |\n",
            "|Lincoln Park                  |1             |166                  |\n",
            "+------------------------------+--------------+---------------------+\n",
            "\n"
          ]
        }
      ]
    },
    {
      "cell_type": "markdown",
      "source": [
        "# 4 - Agamos Grafiquiñes en Seaborn 📈"
      ],
      "metadata": {
        "id": "17tqsybxj_dZ"
      }
    },
    {
      "cell_type": "code",
      "source": [
        "!pip install seaborn"
      ],
      "metadata": {
        "colab": {
          "base_uri": "https://localhost:8080/"
        },
        "id": "5jIP1WuSlXXo",
        "outputId": "91e7dc7c-3371-46d7-9d31-e9759f0cecd2"
      },
      "execution_count": 97,
      "outputs": [
        {
          "output_type": "stream",
          "name": "stdout",
          "text": [
            "Looking in indexes: https://pypi.org/simple, https://us-python.pkg.dev/colab-wheels/public/simple/\n",
            "Requirement already satisfied: seaborn in /usr/local/lib/python3.7/dist-packages (0.11.2)\n",
            "Requirement already satisfied: pandas>=0.23 in /usr/local/lib/python3.7/dist-packages (from seaborn) (1.3.5)\n",
            "Requirement already satisfied: numpy>=1.15 in /usr/local/lib/python3.7/dist-packages (from seaborn) (1.21.6)\n",
            "Requirement already satisfied: scipy>=1.0 in /usr/local/lib/python3.7/dist-packages (from seaborn) (1.7.3)\n",
            "Requirement already satisfied: matplotlib>=2.2 in /usr/local/lib/python3.7/dist-packages (from seaborn) (3.2.2)\n",
            "Requirement already satisfied: cycler>=0.10 in /usr/local/lib/python3.7/dist-packages (from matplotlib>=2.2->seaborn) (0.11.0)\n",
            "Requirement already satisfied: python-dateutil>=2.1 in /usr/local/lib/python3.7/dist-packages (from matplotlib>=2.2->seaborn) (2.8.2)\n",
            "Requirement already satisfied: pyparsing!=2.0.4,!=2.1.2,!=2.1.6,>=2.0.1 in /usr/local/lib/python3.7/dist-packages (from matplotlib>=2.2->seaborn) (3.0.9)\n",
            "Requirement already satisfied: kiwisolver>=1.0.1 in /usr/local/lib/python3.7/dist-packages (from matplotlib>=2.2->seaborn) (1.4.4)\n",
            "Requirement already satisfied: typing-extensions in /usr/local/lib/python3.7/dist-packages (from kiwisolver>=1.0.1->matplotlib>=2.2->seaborn) (4.1.1)\n",
            "Requirement already satisfied: pytz>=2017.3 in /usr/local/lib/python3.7/dist-packages (from pandas>=0.23->seaborn) (2022.2.1)\n",
            "Requirement already satisfied: six>=1.5 in /usr/local/lib/python3.7/dist-packages (from python-dateutil>=2.1->matplotlib>=2.2->seaborn) (1.15.0)\n"
          ]
        }
      ]
    },
    {
      "cell_type": "code",
      "source": [
        "import matplotlib.pyplot as plt\n",
        "import seaborn as sns"
      ],
      "metadata": {
        "id": "RMebG_1ZlbKq"
      },
      "execution_count": 110,
      "outputs": []
    },
    {
      "cell_type": "code",
      "source": [
        "panda_a = a.toPandas()\n",
        "panda_b = b.toPandas()"
      ],
      "metadata": {
        "id": "EwZRRHbmlCxq"
      },
      "execution_count": 99,
      "outputs": []
    },
    {
      "cell_type": "code",
      "source": [
        "panda_a.rename(columns = {'ZipCode':'Postal', 'count(Neighborhood)':'Vecindario',\n",
        "                              'count(IncidentNumber)':'Llamadas'}, inplace = True)\n",
        "panda_b.rename(columns = {'Neighborhood':'Vecindario', 'count(ZipCode)':'Postal',\n",
        "                              'count(IncidentNumber)':'Llamadas'}, inplace = True)"
      ],
      "metadata": {
        "id": "PftiCzOql1Pw"
      },
      "execution_count": 108,
      "outputs": []
    },
    {
      "cell_type": "code",
      "source": [
        "#-- Como los identificadores de código postal y de vecindarios son enormes, los enuemro a ambos\n",
        "panda_a[\"Postal_Mas_a_Menos\"] = [i for i in range(1,28+1)]\n",
        "panda_b[\"Vecindario_Mas_a_Menos\"] = [i for i in range(1,42+1)]"
      ],
      "metadata": {
        "id": "cODPdUWOotRA"
      },
      "execution_count": 128,
      "outputs": []
    },
    {
      "cell_type": "code",
      "source": [
        "# use the scatterplot function to build the bubble map\n",
        "sns.scatterplot(data=panda_a, x='Postal_Mas_a_Menos', y=\"Llamadas\", size=\"Vecindario\", legend=False, alpha=0.5, sizes=(20, 800))\n",
        "\n",
        "# show the graph\n",
        "plt.show()"
      ],
      "metadata": {
        "colab": {
          "base_uri": "https://localhost:8080/",
          "height": 280
        },
        "id": "v_OxrhaHncZ3",
        "outputId": "498fb3ab-883e-478b-c827-d99d3d2e0168"
      },
      "execution_count": 129,
      "outputs": [
        {
          "output_type": "display_data",
          "data": {
            "text/plain": [
              "<Figure size 432x288 with 1 Axes>"
            ],
            "image/png": "[encoded data removed]"
          },
          "metadata": {
            "needs_background": "light"
          }
        }
      ]
    },
    {
      "cell_type": "code",
      "source": [
        "# use the scatterplot function to build the bubble map\n",
        "sns.scatterplot(data=panda_b, x='Vecindario_Mas_a_Menos', y=\"Llamadas\", size=\"Postal\", legend=False, alpha=0.5, sizes=(20, 800))\n",
        "\n",
        "# show the graph\n",
        "plt.show()"
      ],
      "metadata": {
        "colab": {
          "base_uri": "https://localhost:8080/",
          "height": 280
        },
        "id": "h-HEUUewpeNz",
        "outputId": "9869aa56-40f4-4847-eb8e-1c087e043e10"
      },
      "execution_count": 131,
      "outputs": [
        {
          "output_type": "display_data",
          "data": {
            "text/plain": [
              "<Figure size 432x288 with 1 Axes>"
            ],
            "image/png": "[encoded data removed]"
          },
          "metadata": {
            "needs_background": "light"
          }
        }
      ]
    },
    {
      "cell_type": "markdown",
      "source": [
        "# 5-Después de analizaar detenemos Spark 💀"
      ],
      "metadata": {
        "id": "0I-41hUsyLTa"
      }
    },
    {
      "cell_type": "code",
      "source": [
        "#-- Detener la sesión \"esto es importante\"\n",
        "spark.stop()"
      ],
      "metadata": {
        "id": "agHYKChqyGC7"
      },
      "execution_count": 139,
      "outputs": []
    }
  ]
}