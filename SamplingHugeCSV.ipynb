{
  "cells": [
    {
      "cell_type": "markdown",
      "metadata": {
        "id": "QLA_cRWHZkKm"
      },
      "source": [
        "# Inflar la data de Seattle e importar herramientas🎈"
      ]
    },
    {
      "cell_type": "markdown",
      "source": [
        "1.Implementar el algoritmo “reservoir sampling” en Python. 2.Obtener una muestra de la base de datos: “librería Seattle” (Ustedes deciden el número de instancias de la muestra). 3.Analizar la muestra y obtener conclusiones al respecto."
      ],
      "metadata": {
        "id": "1v0JONLRcpDh"
      }
    },
    {
      "cell_type": "code",
      "execution_count": null,
      "metadata": {
        "id": "xbdkUULra_nx"
      },
      "outputs": [],
      "source": [
        "#Importamos muchas cosas diría lady Wooo\n",
        "import pandas as pd\n",
        "import numpy as np\n",
        "import random\n",
        "import csv\n",
        "import time\n",
        "import matplotlib.pyplot as plt\n",
        "from matplotlib.ticker import PercentFormatter"
      ]
    },
    {
      "cell_type": "code",
      "source": [
        "#Este paso es el más importante, usamos DASK para no consumir RAM y hacerlo rápido\n",
        "!python -m pip install \"dask[complete]\"\n",
        "import dask\n",
        "import dask.dataframe as dd"
      ],
      "metadata": {
        "colab": {
          "base_uri": "https://localhost:8080/"
        },
        "id": "AjsGgKaAbtvO",
        "outputId": "0ce0a541-be81-4fa9-ac78-b483af613121"
      },
      "execution_count": null,
      "outputs": [
        {
          "output_type": "stream",
          "name": "stdout",
          "text": [
            "Looking in indexes: https://pypi.org/simple, https://us-python.pkg.dev/colab-wheels/public/simple/\n",
            "Requirement already satisfied: dask[complete] in /usr/local/lib/python3.7/dist-packages (2.12.0)\n",
            "Requirement already satisfied: cloudpickle>=0.2.1 in /usr/local/lib/python3.7/dist-packages (from dask[complete]) (1.3.0)\n",
            "Collecting distributed>=2.0\n",
            "  Downloading distributed-2022.2.0-py3-none-any.whl (837 kB)\n",
            "\u001b[K     |████████████████████████████████| 837 kB 4.2 MB/s \n",
            "\u001b[?25hCollecting partd>=0.3.10\n",
            "  Downloading partd-1.2.0-py3-none-any.whl (19 kB)\n",
            "Requirement already satisfied: toolz>=0.7.3 in /usr/local/lib/python3.7/dist-packages (from dask[complete]) (0.12.0)\n",
            "Collecting fsspec>=0.6.0\n",
            "  Downloading fsspec-2022.7.1-py3-none-any.whl (141 kB)\n",
            "\u001b[K     |████████████████████████████████| 141 kB 49.5 MB/s \n",
            "\u001b[?25hRequirement already satisfied: numpy>=1.13.0 in /usr/local/lib/python3.7/dist-packages (from dask[complete]) (1.21.6)\n",
            "Requirement already satisfied: bokeh>=1.0.0 in /usr/local/lib/python3.7/dist-packages (from dask[complete]) (2.3.3)\n",
            "Requirement already satisfied: pandas>=0.23.0 in /usr/local/lib/python3.7/dist-packages (from dask[complete]) (1.3.5)\n",
            "Requirement already satisfied: PyYaml in /usr/local/lib/python3.7/dist-packages (from dask[complete]) (3.13)\n",
            "Requirement already satisfied: pillow>=7.1.0 in /usr/local/lib/python3.7/dist-packages (from bokeh>=1.0.0->dask[complete]) (7.1.2)\n",
            "Requirement already satisfied: Jinja2>=2.9 in /usr/local/lib/python3.7/dist-packages (from bokeh>=1.0.0->dask[complete]) (2.11.3)\n",
            "Requirement already satisfied: tornado>=5.1 in /usr/local/lib/python3.7/dist-packages (from bokeh>=1.0.0->dask[complete]) (5.1.1)\n",
            "Requirement already satisfied: packaging>=16.8 in /usr/local/lib/python3.7/dist-packages (from bokeh>=1.0.0->dask[complete]) (21.3)\n",
            "Requirement already satisfied: typing-extensions>=3.7.4 in /usr/local/lib/python3.7/dist-packages (from bokeh>=1.0.0->dask[complete]) (4.1.1)\n",
            "Requirement already satisfied: python-dateutil>=2.1 in /usr/local/lib/python3.7/dist-packages (from bokeh>=1.0.0->dask[complete]) (2.8.2)\n",
            "Requirement already satisfied: zict>=0.1.3 in /usr/local/lib/python3.7/dist-packages (from distributed>=2.0->dask[complete]) (2.2.0)\n",
            "Requirement already satisfied: psutil>=5.0 in /usr/local/lib/python3.7/dist-packages (from distributed>=2.0->dask[complete]) (5.4.8)\n",
            "Requirement already satisfied: tblib>=1.6.0 in /usr/local/lib/python3.7/dist-packages (from distributed>=2.0->dask[complete]) (1.7.0)\n",
            "Collecting distributed>=2.0\n",
            "  Downloading distributed-2022.1.1-py3-none-any.whl (830 kB)\n",
            "\u001b[K     |████████████████████████████████| 830 kB 39.6 MB/s \n",
            "\u001b[?25hCollecting cloudpickle>=0.2.1\n",
            "  Downloading cloudpickle-2.1.0-py3-none-any.whl (25 kB)\n",
            "Requirement already satisfied: msgpack>=0.6.0 in /usr/local/lib/python3.7/dist-packages (from distributed>=2.0->dask[complete]) (1.0.4)\n",
            "Requirement already satisfied: setuptools in /usr/local/lib/python3.7/dist-packages (from distributed>=2.0->dask[complete]) (57.4.0)\n",
            "Requirement already satisfied: click>=6.6 in /usr/local/lib/python3.7/dist-packages (from distributed>=2.0->dask[complete]) (7.1.2)\n",
            "Requirement already satisfied: sortedcontainers!=2.0.0,!=2.0.1 in /usr/local/lib/python3.7/dist-packages (from distributed>=2.0->dask[complete]) (2.4.0)\n",
            "Collecting distributed>=2.0\n",
            "  Downloading distributed-2022.1.0-py3-none-any.whl (822 kB)\n",
            "\u001b[K     |████████████████████████████████| 822 kB 31.5 MB/s \n",
            "\u001b[?25h  Downloading distributed-2021.12.0-py3-none-any.whl (802 kB)\n",
            "\u001b[K     |████████████████████████████████| 802 kB 28.3 MB/s \n",
            "\u001b[?25h  Downloading distributed-2021.11.2-py3-none-any.whl (802 kB)\n",
            "\u001b[K     |████████████████████████████████| 802 kB 43.5 MB/s \n",
            "\u001b[?25h  Downloading distributed-2021.11.1-py3-none-any.whl (793 kB)\n",
            "\u001b[K     |████████████████████████████████| 793 kB 44.5 MB/s \n",
            "\u001b[?25h  Downloading distributed-2021.11.0-py3-none-any.whl (793 kB)\n",
            "\u001b[K     |████████████████████████████████| 793 kB 32.9 MB/s \n",
            "\u001b[?25h  Downloading distributed-2021.10.0-py3-none-any.whl (791 kB)\n",
            "\u001b[K     |████████████████████████████████| 791 kB 42.8 MB/s \n",
            "\u001b[?25h  Downloading distributed-2021.9.1-py3-none-any.whl (786 kB)\n",
            "\u001b[K     |████████████████████████████████| 786 kB 43.4 MB/s \n",
            "\u001b[?25h  Downloading distributed-2021.9.0-py3-none-any.whl (779 kB)\n",
            "\u001b[K     |████████████████████████████████| 779 kB 14.0 MB/s \n",
            "\u001b[?25h  Downloading distributed-2021.8.1-py3-none-any.whl (778 kB)\n",
            "\u001b[K     |████████████████████████████████| 778 kB 17.1 MB/s \n",
            "\u001b[?25h  Downloading distributed-2021.8.0-py3-none-any.whl (776 kB)\n",
            "\u001b[K     |████████████████████████████████| 776 kB 46.3 MB/s \n",
            "\u001b[?25h  Downloading distributed-2021.7.2-py3-none-any.whl (769 kB)\n",
            "\u001b[K     |████████████████████████████████| 769 kB 42.9 MB/s \n",
            "\u001b[?25h  Downloading distributed-2021.7.1-py3-none-any.whl (766 kB)\n",
            "\u001b[K     |████████████████████████████████| 766 kB 44.4 MB/s \n",
            "\u001b[?25h  Downloading distributed-2021.7.0-py3-none-any.whl (1.0 MB)\n",
            "\u001b[K     |████████████████████████████████| 1.0 MB 55.1 MB/s \n",
            "\u001b[?25h  Downloading distributed-2021.6.2-py3-none-any.whl (722 kB)\n",
            "\u001b[K     |████████████████████████████████| 722 kB 45.2 MB/s \n",
            "\u001b[?25h  Downloading distributed-2021.6.1-py3-none-any.whl (722 kB)\n",
            "\u001b[K     |████████████████████████████████| 722 kB 46.8 MB/s \n",
            "\u001b[?25h  Downloading distributed-2021.6.0-py3-none-any.whl (715 kB)\n",
            "\u001b[K     |████████████████████████████████| 715 kB 21.4 MB/s \n",
            "\u001b[?25h  Downloading distributed-2021.5.1-py3-none-any.whl (705 kB)\n",
            "\u001b[K     |████████████████████████████████| 705 kB 5.6 MB/s \n",
            "\u001b[?25h  Downloading distributed-2021.5.0-py3-none-any.whl (699 kB)\n",
            "\u001b[K     |████████████████████████████████| 699 kB 49.7 MB/s \n",
            "\u001b[?25h  Downloading distributed-2021.4.1-py3-none-any.whl (696 kB)\n",
            "\u001b[K     |████████████████████████████████| 696 kB 46.6 MB/s \n",
            "\u001b[?25h  Downloading distributed-2021.4.0-py3-none-any.whl (684 kB)\n",
            "\u001b[K     |████████████████████████████████| 684 kB 41.6 MB/s \n",
            "\u001b[?25h  Downloading distributed-2021.3.1-py3-none-any.whl (679 kB)\n",
            "\u001b[K     |████████████████████████████████| 679 kB 51.0 MB/s \n",
            "\u001b[?25h  Downloading distributed-2021.3.0-py3-none-any.whl (675 kB)\n",
            "\u001b[K     |████████████████████████████████| 675 kB 37.8 MB/s \n",
            "\u001b[?25h  Downloading distributed-2021.2.0-py3-none-any.whl (675 kB)\n",
            "\u001b[K     |████████████████████████████████| 675 kB 34.9 MB/s \n",
            "\u001b[?25h  Downloading distributed-2021.1.1-py3-none-any.whl (672 kB)\n",
            "\u001b[K     |████████████████████████████████| 672 kB 18.6 MB/s \n",
            "\u001b[?25h  Downloading distributed-2021.1.0-py3-none-any.whl (671 kB)\n",
            "\u001b[K     |████████████████████████████████| 671 kB 49.5 MB/s \n",
            "\u001b[?25h  Downloading distributed-2020.12.0-py3-none-any.whl (669 kB)\n",
            "\u001b[K     |████████████████████████████████| 669 kB 15.0 MB/s \n",
            "\u001b[?25h  Downloading distributed-2.30.1-py3-none-any.whl (656 kB)\n",
            "\u001b[K     |████████████████████████████████| 656 kB 45.9 MB/s \n",
            "\u001b[?25hRequirement already satisfied: MarkupSafe>=0.23 in /usr/local/lib/python3.7/dist-packages (from Jinja2>=2.9->bokeh>=1.0.0->dask[complete]) (2.0.1)\n",
            "Requirement already satisfied: pyparsing!=3.0.5,>=2.0.2 in /usr/local/lib/python3.7/dist-packages (from packaging>=16.8->bokeh>=1.0.0->dask[complete]) (3.0.9)\n",
            "Requirement already satisfied: pytz>=2017.3 in /usr/local/lib/python3.7/dist-packages (from pandas>=0.23.0->dask[complete]) (2022.1)\n",
            "Collecting locket\n",
            "  Downloading locket-1.0.0-py2.py3-none-any.whl (4.4 kB)\n",
            "Requirement already satisfied: six>=1.5 in /usr/local/lib/python3.7/dist-packages (from python-dateutil>=2.1->bokeh>=1.0.0->dask[complete]) (1.15.0)\n",
            "Requirement already satisfied: heapdict in /usr/local/lib/python3.7/dist-packages (from zict>=0.1.3->distributed>=2.0->dask[complete]) (1.0.1)\n",
            "Installing collected packages: locket, cloudpickle, partd, fsspec, distributed\n",
            "  Attempting uninstall: cloudpickle\n",
            "    Found existing installation: cloudpickle 1.3.0\n",
            "    Uninstalling cloudpickle-1.3.0:\n",
            "      Successfully uninstalled cloudpickle-1.3.0\n",
            "  Attempting uninstall: distributed\n",
            "    Found existing installation: distributed 1.25.3\n",
            "    Uninstalling distributed-1.25.3:\n",
            "      Successfully uninstalled distributed-1.25.3\n",
            "\u001b[31mERROR: pip's dependency resolver does not currently take into account all the packages that are installed. This behaviour is the source of the following dependency conflicts.\n",
            "gym 0.17.3 requires cloudpickle<1.7.0,>=1.2.0, but you have cloudpickle 2.1.0 which is incompatible.\u001b[0m\n",
            "Successfully installed cloudpickle-2.1.0 distributed-2.30.1 fsspec-2022.7.1 locket-1.0.0 partd-1.2.0\n"
          ]
        }
      ]
    },
    {
      "cell_type": "code",
      "execution_count": null,
      "metadata": {
        "colab": {
          "base_uri": "https://localhost:8080/"
        },
        "id": "nurn8EmZcYvx",
        "outputId": "5dd126d9-6d10-4840-924d-63ea6b64df5a"
      },
      "outputs": [
        {
          "output_type": "stream",
          "name": "stdout",
          "text": [
            "Mounted at /content/drive\n"
          ]
        }
      ],
      "source": [
        "#Conecto mi DRIVE donde ya está el comprimido checkouts_seattle\n",
        "from google.colab import drive\n",
        "drive.mount('/content/drive')"
      ]
    },
    {
      "cell_type": "code",
      "execution_count": null,
      "metadata": {
        "colab": {
          "base_uri": "https://localhost:8080/"
        },
        "id": "yOlHB6LkcY2h",
        "outputId": "79a142ea-1972-487b-aff6-f4144de5e903"
      },
      "outputs": [
        {
          "output_type": "stream",
          "name": "stdout",
          "text": [
            "Archive:  drive/MyDrive/checkouts_seattle.zip\n",
            "  inflating: Checkouts by Title FAQs.pdf  \n",
            "  inflating: checkouts-by-title.csv  \n",
            "  inflating: socrata_metadata.json   \n",
            "CPU times: user 670 ms, sys: 93 ms, total: 763 ms\n",
            "Wall time: 1min 34s\n"
          ]
        }
      ],
      "source": [
        "%%time\n",
        "!unzip drive/MyDrive/checkouts_seattle.zip"
      ]
    },
    {
      "cell_type": "markdown",
      "metadata": {
        "id": "4DuSj7L2bR0E"
      },
      "source": [
        "# Dimensionar CSV,num líneas y tamaño 😎"
      ]
    },
    {
      "cell_type": "code",
      "execution_count": null,
      "metadata": {
        "colab": {
          "base_uri": "https://localhost:8080/"
        },
        "id": "9E6hy8ajbxbB",
        "outputId": "7337ac04-c733-4d46-ac57-2bb27bf0b094"
      },
      "outputs": [
        {
          "output_type": "stream",
          "name": "stdout",
          "text": [
            "34892624 checkouts-by-title.csv\n",
            "CPU times: user 245 ms, sys: 54.2 ms, total: 299 ms\n",
            "Wall time: 38.3 s\n"
          ]
        }
      ],
      "source": [
        "#Ahora debemos dimensionar el mounstruo\n",
        "#¿Cuántas líneas tenemos en este caso?\n",
        "%%time\n",
        "!wc -l checkouts-by-title.csv"
      ]
    },
    {
      "cell_type": "markdown",
      "metadata": {
        "id": "ju9xdnQneJi8"
      },
      "source": [
        "Vemos que el CSV de Seattle tiene 7.13GB de tamaño y 35 millones de líneas (34,892,624). Por tanto, podríamos tener un muestreo k de 350,000 por ejemplo."
      ]
    },
    {
      "cell_type": "markdown",
      "metadata": {
        "id": "kTB2KfO1f8Cq"
      },
      "source": [
        "## Uso DASK para eficiencia y rapidez 👀"
      ]
    },
    {
      "cell_type": "code",
      "source": [
        "#--DASK es super bueno para este tipo de trabajos porque:\n",
        "# Dask, a flexible parallel computing library for Python. \n",
        "# Among many other features, Dask provides an API that emulates Pandas, \n",
        "# while implementing chunking and parallelization transparently.\n",
        "start = time.time()\n",
        "dask_df = dd.read_csv('/content/checkouts-by-title.csv')\n",
        "end = time.time()\n",
        "print(\"Tiempo de lectura del BIG CSV: \",(end-start),\"sec\")"
      ],
      "metadata": {
        "colab": {
          "base_uri": "https://localhost:8080/"
        },
        "id": "W4iX605J8R_c",
        "outputId": "6a6e2ea2-e40d-483e-f613-8ab588fc71bc"
      },
      "execution_count": null,
      "outputs": [
        {
          "output_type": "stream",
          "name": "stdout",
          "text": [
            "Tiempo de lectura del BIG CSV:  0.28592729568481445 sec\n"
          ]
        }
      ]
    },
    {
      "cell_type": "code",
      "source": [
        "# revisemos que el tamaño del dataframe sea de 34M de líneas\n",
        "# para estar seguros de que el CSV está en el DF\n",
        "%%time\n",
        "numtotal = len(dask_df)\n",
        "print(numtotal)"
      ],
      "metadata": {
        "id": "zY7zDasFCtIf",
        "colab": {
          "base_uri": "https://localhost:8080/"
        },
        "outputId": "82f12d79-da1e-4451-bcfa-024ba899c6c3"
      },
      "execution_count": null,
      "outputs": [
        {
          "output_type": "stream",
          "name": "stdout",
          "text": [
            "34892623\n",
            "CPU times: user 3min 23s, sys: 11.2 s, total: 3min 35s\n",
            "Wall time: 3min 3s\n"
          ]
        }
      ]
    },
    {
      "cell_type": "code",
      "source": [
        "#Vemos que tipo de datos tiene el DF de DASK\n",
        "%%time\n",
        "dask_df.dtypes"
      ],
      "metadata": {
        "colab": {
          "base_uri": "https://localhost:8080/"
        },
        "id": "9E3vesjXGBsb",
        "outputId": "62e1a12e-a091-403b-927e-c186caa67d4b"
      },
      "execution_count": null,
      "outputs": [
        {
          "output_type": "stream",
          "name": "stdout",
          "text": [
            "CPU times: user 430 µs, sys: 0 ns, total: 430 µs\n",
            "Wall time: 440 µs\n"
          ]
        },
        {
          "output_type": "execute_result",
          "data": {
            "text/plain": [
              "UsageClass         object\n",
              "CheckoutType       object\n",
              "MaterialType       object\n",
              "CheckoutYear        int64\n",
              "CheckoutMonth       int64\n",
              "Checkouts           int64\n",
              "Title              object\n",
              "Creator            object\n",
              "Subjects           object\n",
              "Publisher          object\n",
              "PublicationYear    object\n",
              "dtype: object"
            ]
          },
          "metadata": {},
          "execution_count": 8
        }
      ]
    },
    {
      "cell_type": "code",
      "source": [
        "#Sacamos una muestra de ~1M ~2.9% del total y lo pasamos a un DF de pandas\n",
        "%%time\n",
        "df = dask_df.sample(frac=0.029, replace=False, random_state=1).compute()"
      ],
      "metadata": {
        "id": "uqV51DnAHhvj",
        "colab": {
          "base_uri": "https://localhost:8080/"
        },
        "outputId": "bb58ad40-ff25-40ab-a037-aa628ac5af1c"
      },
      "execution_count": null,
      "outputs": [
        {
          "output_type": "stream",
          "name": "stdout",
          "text": [
            "CPU times: user 3min 29s, sys: 10.2 s, total: 3min 39s\n",
            "Wall time: 2min 54s\n"
          ]
        }
      ]
    },
    {
      "cell_type": "code",
      "source": [
        "#En este df haré el reservoir sampling de unos 350,000\n",
        "len(df)"
      ],
      "metadata": {
        "colab": {
          "base_uri": "https://localhost:8080/"
        },
        "id": "yqoiQ2kGJdGw",
        "outputId": "78117f31-2ff5-4f5a-8c23-b759f9753537"
      },
      "execution_count": null,
      "outputs": [
        {
          "output_type": "execute_result",
          "data": {
            "text/plain": [
              "1011883"
            ]
          },
          "metadata": {},
          "execution_count": 22
        }
      ]
    },
    {
      "cell_type": "markdown",
      "source": [
        "# Reservoir Sampling ⛴"
      ],
      "metadata": {
        "id": "BhnDtGF8-EEz"
      }
    },
    {
      "cell_type": "code",
      "source": [
        "# Importamos las herramientas necesarias para el algoritmo\n",
        "from itertools import islice\n",
        "from random import randrange\n",
        "from typing import Iterable"
      ],
      "metadata": {
        "id": "gQ-GLJIv-VSm"
      },
      "execution_count": null,
      "outputs": []
    },
    {
      "cell_type": "code",
      "source": [
        "# Definimos el algoritmo sin optimización según lo que dice internet\n",
        "def random_subset( iterator, K ):\n",
        "    result = []\n",
        "    N = 0\n",
        "\n",
        "    for item in iterator:\n",
        "        N += 1\n",
        "        if len( result ) < K:\n",
        "            result.append( item )\n",
        "        else:\n",
        "            s = int(random.random() * N)\n",
        "            if s < K:\n",
        "                result[ s ] = item\n",
        "\n",
        "    return result"
      ],
      "metadata": {
        "id": "64Y8qiO9-caK"
      },
      "execution_count": null,
      "outputs": []
    },
    {
      "cell_type": "markdown",
      "source": [
        "¡Mucho ojo! interatordf = df"
      ],
      "metadata": {
        "id": "xwdA8H9wL8bO"
      }
    },
    {
      "cell_type": "code",
      "source": [
        "#change pandas to numpy\n",
        "%%time\n",
        "interatordf = df.to_numpy()"
      ],
      "metadata": {
        "colab": {
          "base_uri": "https://localhost:8080/"
        },
        "id": "EqU95ng1AsK1",
        "outputId": "7ed289d2-c4b5-4041-851e-4fe28c145099"
      },
      "execution_count": null,
      "outputs": [
        {
          "output_type": "stream",
          "name": "stdout",
          "text": [
            "CPU times: user 496 ms, sys: 129 ms, total: 625 ms\n",
            "Wall time: 992 ms\n"
          ]
        }
      ]
    },
    {
      "cell_type": "code",
      "source": [
        "#Ejecuto la función con k y el df en pandas\n",
        "%%time\n",
        "k=350000\n",
        "reservoir = pd.DataFrame(random_subset(interatordf,k))"
      ],
      "metadata": {
        "colab": {
          "base_uri": "https://localhost:8080/"
        },
        "id": "rbQfMNz4_b8G",
        "outputId": "00067a60-7f7c-4c6e-a801-e534c42d2a14"
      },
      "execution_count": null,
      "outputs": [
        {
          "output_type": "stream",
          "name": "stdout",
          "text": [
            "CPU times: user 3.1 s, sys: 47.5 ms, total: 3.14 s\n",
            "Wall time: 3.17 s\n"
          ]
        }
      ]
    },
    {
      "cell_type": "code",
      "source": [
        "#Revisamos que la reserva sea del tamaño k\n",
        "len(reservoir)"
      ],
      "metadata": {
        "colab": {
          "base_uri": "https://localhost:8080/"
        },
        "id": "7jOilJfw_u0R",
        "outputId": "875412ef-3673-49c2-edfd-cc8ceee07476"
      },
      "execution_count": null,
      "outputs": [
        {
          "output_type": "execute_result",
          "data": {
            "text/plain": [
              "350000"
            ]
          },
          "metadata": {},
          "execution_count": 29
        }
      ]
    },
    {
      "cell_type": "code",
      "source": [
        "#Incluimos los nombres de las columnas\n",
        "reservoir.columns=['UsageClass','CheckOut_Type','Material_Type', 'CheckOut_Year','CheckOut_Month','CheckOuts','Title','Creator','Subjects','Publisher','Publication_Year']"
      ],
      "metadata": {
        "id": "ztaKWA9sCY9o"
      },
      "execution_count": null,
      "outputs": []
    },
    {
      "cell_type": "markdown",
      "source": [
        "# Ya tenemos todo, ahora a plotear un poquito para sacar conclusiones ⚙"
      ],
      "metadata": {
        "id": "1g4LEZ1oHAtR"
      }
    },
    {
      "cell_type": "code",
      "source": [
        "data=reservoir['UsageClass']\n",
        "plt.hist(data, weights=np.ones(len(data)) / len(data),color = \"lightblue\", ec=\"blue\")\n",
        "plt.gca().yaxis.set_major_formatter(PercentFormatter(1))\n",
        "plt.xlabel(\"USAGE\", fontweight='bold')\n",
        "plt.ylabel(\"% OF TOTAL SAMPLE\", fontweight='bold')\n",
        "plt.title(\"% OF TOTAL - USAGE\")\n",
        "plt.show()"
      ],
      "metadata": {
        "colab": {
          "base_uri": "https://localhost:8080/",
          "height": 295
        },
        "id": "XeEN_8HGDWSX",
        "outputId": "ae89eb25-91bd-4d82-e7ad-29703908e2de"
      },
      "execution_count": null,
      "outputs": [
        {
          "output_type": "display_data",
          "data": {
            "text/plain": [
              "<Figure size 432x288 with 1 Axes>"
            ],
            "image/png": "[encoded data removed]"
          },
          "metadata": {
            "needs_background": "light"
          }
        }
      ]
    },
    {
      "cell_type": "code",
      "source": [
        "data=reservoir['CheckOut_Type']\n",
        "plt.hist(data, weights=np.ones(len(data)) / len(data),color = \"lightblue\", ec=\"blue\")\n",
        "plt.gca().yaxis.set_major_formatter(PercentFormatter(1))\n",
        "plt.xlabel(\"USAGE\", fontweight='bold')\n",
        "plt.ylabel(\"% OF TOTAL SAMPLE\", fontweight='bold')\n",
        "plt.title(\"% OF TOTAL - USAGE\")\n",
        "plt.show()"
      ],
      "metadata": {
        "colab": {
          "base_uri": "https://localhost:8080/",
          "height": 295
        },
        "id": "aJD2W1egHHx9",
        "outputId": "dbac76bd-4177-422d-81de-621dd453fe75"
      },
      "execution_count": null,
      "outputs": [
        {
          "output_type": "display_data",
          "data": {
            "text/plain": [
              "<Figure size 432x288 with 1 Axes>"
            ],
            "image/png": "[encoded data removed]"
          },
          "metadata": {
            "needs_background": "light"
          }
        }
      ]
    },
    {
      "cell_type": "code",
      "source": [
        "#Vemos cuáles han sido los tipos de materiales que más han tenido checkouts top 10\n",
        "tablas = reservoir.groupby(\"CheckOut_Year\").agg(LosChecksOuts=pd.NamedAgg(column=\"CheckOuts\", aggfunc=\"sum\"))\n",
        "tablassorted = tablas.sort_values(by='LosChecksOuts', ascending=False)"
      ],
      "metadata": {
        "id": "OgHlUCuPHXIU"
      },
      "execution_count": null,
      "outputs": []
    },
    {
      "cell_type": "code",
      "source": [
        "tablassorted.head(10)"
      ],
      "metadata": {
        "colab": {
          "base_uri": "https://localhost:8080/",
          "height": 394
        },
        "id": "v49eiOj-LEuE",
        "outputId": "404d1872-b08d-4e50-9d6b-dbfc958ccf8f"
      },
      "execution_count": null,
      "outputs": [
        {
          "output_type": "execute_result",
          "data": {
            "text/plain": [
              "               LosChecksOuts\n",
              "CheckOut_Year               \n",
              "2014                   95365\n",
              "2013                   92838\n",
              "2018                   90410\n",
              "2015                   89974\n",
              "2010                   87580\n",
              "2009                   87415\n",
              "2017                   87183\n",
              "2011                   86941\n",
              "2016                   86721\n",
              "2008                   85346"
            ],
            "text/html": [
              "\n",
              "  <div id=\"df-87428cf0-6b2b-4cc2-a4e6-80c0c1023635\">\n",
              "    <div class=\"colab-df-container\">\n",
              "      <div>\n",
              "<style scoped>\n",
              "    .dataframe tbody tr th:only-of-type {\n",
              "        vertical-align: middle;\n",
              "    }\n",
              "\n",
              "    .dataframe tbody tr th {\n",
              "        vertical-align: top;\n",
              "    }\n",
              "\n",
              "    .dataframe thead th {\n",
              "        text-align: right;\n",
              "    }\n",
              "</style>\n",
              "<table border=\"1\" class=\"dataframe\">\n",
              "  <thead>\n",
              "    <tr style=\"text-align: right;\">\n",
              "      <th></th>\n",
              "      <th>LosChecksOuts</th>\n",
              "    </tr>\n",
              "    <tr>\n",
              "      <th>CheckOut_Year</th>\n",
              "      <th></th>\n",
              "    </tr>\n",
              "  </thead>\n",
              "  <tbody>\n",
              "    <tr>\n",
              "      <th>2014</th>\n",
              "      <td>95365</td>\n",
              "    </tr>\n",
              "    <tr>\n",
              "      <th>2013</th>\n",
              "      <td>92838</td>\n",
              "    </tr>\n",
              "    <tr>\n",
              "      <th>2018</th>\n",
              "      <td>90410</td>\n",
              "    </tr>\n",
              "    <tr>\n",
              "      <th>2015</th>\n",
              "      <td>89974</td>\n",
              "    </tr>\n",
              "    <tr>\n",
              "      <th>2010</th>\n",
              "      <td>87580</td>\n",
              "    </tr>\n",
              "    <tr>\n",
              "      <th>2009</th>\n",
              "      <td>87415</td>\n",
              "    </tr>\n",
              "    <tr>\n",
              "      <th>2017</th>\n",
              "      <td>87183</td>\n",
              "    </tr>\n",
              "    <tr>\n",
              "      <th>2011</th>\n",
              "      <td>86941</td>\n",
              "    </tr>\n",
              "    <tr>\n",
              "      <th>2016</th>\n",
              "      <td>86721</td>\n",
              "    </tr>\n",
              "    <tr>\n",
              "      <th>2008</th>\n",
              "      <td>85346</td>\n",
              "    </tr>\n",
              "  </tbody>\n",
              "</table>\n",
              "</div>\n",
              "      <button class=\"colab-df-convert\" onclick=\"convertToInteractive('df-87428cf0-6b2b-4cc2-a4e6-80c0c1023635')\"\n",
              "              title=\"Convert this dataframe to an interactive table.\"\n",
              "              style=\"display:none;\">\n",
              "        \n",
              "  <svg xmlns=\"http://www.w3.org/2000/svg\" height=\"24px\"viewBox=\"0 0 24 24\"\n",
              "       width=\"24px\">\n",
              "    <path d=\"M0 0h24v24H0V0z\" fill=\"none\"/>\n",
              "    <path d=\"M18.56 5.44l.94 2.06.94-2.06 2.06-.94-2.06-.94-.94-2.06-.94 2.06-2.06.94zm-11 1L8.5 8.5l.94-2.06 2.06-.94-2.06-.94L8.5 2.5l-.94 2.06-2.06.94zm10 10l.94 2.06.94-2.06 2.06-.94-2.06-.94-.94-2.06-.94 2.06-2.06.94z\"/><path d=\"M17.41 7.96l-1.37-1.37c-.4-.4-.92-.59-1.43-.59-.52 0-1.04.2-1.43.59L10.3 9.45l-7.72 7.72c-.78.78-.78 2.05 0 2.83L4 21.41c.39.39.9.59 1.41.59.51 0 1.02-.2 1.41-.59l7.78-7.78 2.81-2.81c.8-.78.8-2.07 0-2.86zM5.41 20L4 18.59l7.72-7.72 1.47 1.35L5.41 20z\"/>\n",
              "  </svg>\n",
              "      </button>\n",
              "      \n",
              "  <style>\n",
              "    .colab-df-container {\n",
              "      display:flex;\n",
              "      flex-wrap:wrap;\n",
              "      gap: 12px;\n",
              "    }\n",
              "\n",
              "    .colab-df-convert {\n",
              "      background-color: #E8F0FE;\n",
              "      border: none;\n",
              "      border-radius: 50%;\n",
              "      cursor: pointer;\n",
              "      display: none;\n",
              "      fill: #1967D2;\n",
              "      height: 32px;\n",
              "      padding: 0 0 0 0;\n",
              "      width: 32px;\n",
              "    }\n",
              "\n",
              "    .colab-df-convert:hover {\n",
              "      background-color: #E2EBFA;\n",
              "      box-shadow: 0px 1px 2px rgba(60, 64, 67, 0.3), 0px 1px 3px 1px rgba(60, 64, 67, 0.15);\n",
              "      fill: #174EA6;\n",
              "    }\n",
              "\n",
              "    [theme=dark] .colab-df-convert {\n",
              "      background-color: #3B4455;\n",
              "      fill: #D2E3FC;\n",
              "    }\n",
              "\n",
              "    [theme=dark] .colab-df-convert:hover {\n",
              "      background-color: #434B5C;\n",
              "      box-shadow: 0px 1px 3px 1px rgba(0, 0, 0, 0.15);\n",
              "      filter: drop-shadow(0px 1px 2px rgba(0, 0, 0, 0.3));\n",
              "      fill: #FFFFFF;\n",
              "    }\n",
              "  </style>\n",
              "\n",
              "      <script>\n",
              "        const buttonEl =\n",
              "          document.querySelector('#df-87428cf0-6b2b-4cc2-a4e6-80c0c1023635 button.colab-df-convert');\n",
              "        buttonEl.style.display =\n",
              "          google.colab.kernel.accessAllowed ? 'block' : 'none';\n",
              "\n",
              "        async function convertToInteractive(key) {\n",
              "          const element = document.querySelector('#df-87428cf0-6b2b-4cc2-a4e6-80c0c1023635');\n",
              "          const dataTable =\n",
              "            await google.colab.kernel.invokeFunction('convertToInteractive',\n",
              "                                                     [key], {});\n",
              "          if (!dataTable) return;\n",
              "\n",
              "          const docLinkHtml = 'Like what you see? Visit the ' +\n",
              "            '<a target=\"_blank\" href=https://colab.research.google.com/notebooks/data_table.ipynb>data table notebook</a>'\n",
              "            + ' to learn more about interactive tables.';\n",
              "          element.innerHTML = '';\n",
              "          dataTable['output_type'] = 'display_data';\n",
              "          await google.colab.output.renderOutput(dataTable, element);\n",
              "          const docLink = document.createElement('div');\n",
              "          docLink.innerHTML = docLinkHtml;\n",
              "          element.appendChild(docLink);\n",
              "        }\n",
              "      </script>\n",
              "    </div>\n",
              "  </div>\n",
              "  "
            ]
          },
          "metadata": {},
          "execution_count": 86
        }
      ]
    },
    {
      "cell_type": "code",
      "source": [
        "#Vemos cuáles han sido los años más han tenido checkouts top 10\n",
        "tablas = reservoir.groupby(\"Material_Type\").agg(LosChecksOuts=pd.NamedAgg(column=\"CheckOuts\", aggfunc=\"sum\"))\n",
        "tablassorted = tablas.sort_values(by='LosChecksOuts', ascending=False)"
      ],
      "metadata": {
        "id": "xvNaU4ONPVIe"
      },
      "execution_count": null,
      "outputs": []
    },
    {
      "cell_type": "code",
      "source": [
        "tablassorted.head(10)"
      ],
      "metadata": {
        "colab": {
          "base_uri": "https://localhost:8080/",
          "height": 394
        },
        "id": "4OB-mZh1PlJ5",
        "outputId": "498d7972-42c8-4c28-b1c8-30ab8a1b54e0"
      },
      "execution_count": null,
      "outputs": [
        {
          "output_type": "execute_result",
          "data": {
            "text/plain": [
              "               LosChecksOuts\n",
              "Material_Type               \n",
              "BOOK                  580504\n",
              "VIDEODISC             295231\n",
              "SOUNDDISC             143309\n",
              "EBOOK                 107741\n",
              "AUDIOBOOK              48759\n",
              "VIDEOCASS              15243\n",
              "SONG                   12294\n",
              "MUSIC                   3559\n",
              "SOUNDCASS               3438\n",
              "MAGAZINE                3328"
            ],
            "text/html": [
              "\n",
              "  <div id=\"df-a50777d1-135b-47e3-92d9-ad8205483106\">\n",
              "    <div class=\"colab-df-container\">\n",
              "      <div>\n",
              "<style scoped>\n",
              "    .dataframe tbody tr th:only-of-type {\n",
              "        vertical-align: middle;\n",
              "    }\n",
              "\n",
              "    .dataframe tbody tr th {\n",
              "        vertical-align: top;\n",
              "    }\n",
              "\n",
              "    .dataframe thead th {\n",
              "        text-align: right;\n",
              "    }\n",
              "</style>\n",
              "<table border=\"1\" class=\"dataframe\">\n",
              "  <thead>\n",
              "    <tr style=\"text-align: right;\">\n",
              "      <th></th>\n",
              "      <th>LosChecksOuts</th>\n",
              "    </tr>\n",
              "    <tr>\n",
              "      <th>Material_Type</th>\n",
              "      <th></th>\n",
              "    </tr>\n",
              "  </thead>\n",
              "  <tbody>\n",
              "    <tr>\n",
              "      <th>BOOK</th>\n",
              "      <td>580504</td>\n",
              "    </tr>\n",
              "    <tr>\n",
              "      <th>VIDEODISC</th>\n",
              "      <td>295231</td>\n",
              "    </tr>\n",
              "    <tr>\n",
              "      <th>SOUNDDISC</th>\n",
              "      <td>143309</td>\n",
              "    </tr>\n",
              "    <tr>\n",
              "      <th>EBOOK</th>\n",
              "      <td>107741</td>\n",
              "    </tr>\n",
              "    <tr>\n",
              "      <th>AUDIOBOOK</th>\n",
              "      <td>48759</td>\n",
              "    </tr>\n",
              "    <tr>\n",
              "      <th>VIDEOCASS</th>\n",
              "      <td>15243</td>\n",
              "    </tr>\n",
              "    <tr>\n",
              "      <th>SONG</th>\n",
              "      <td>12294</td>\n",
              "    </tr>\n",
              "    <tr>\n",
              "      <th>MUSIC</th>\n",
              "      <td>3559</td>\n",
              "    </tr>\n",
              "    <tr>\n",
              "      <th>SOUNDCASS</th>\n",
              "      <td>3438</td>\n",
              "    </tr>\n",
              "    <tr>\n",
              "      <th>MAGAZINE</th>\n",
              "      <td>3328</td>\n",
              "    </tr>\n",
              "  </tbody>\n",
              "</table>\n",
              "</div>\n",
              "      <button class=\"colab-df-convert\" onclick=\"convertToInteractive('df-a50777d1-135b-47e3-92d9-ad8205483106')\"\n",
              "              title=\"Convert this dataframe to an interactive table.\"\n",
              "              style=\"display:none;\">\n",
              "        \n",
              "  <svg xmlns=\"http://www.w3.org/2000/svg\" height=\"24px\"viewBox=\"0 0 24 24\"\n",
              "       width=\"24px\">\n",
              "    <path d=\"M0 0h24v24H0V0z\" fill=\"none\"/>\n",
              "    <path d=\"M18.56 5.44l.94 2.06.94-2.06 2.06-.94-2.06-.94-.94-2.06-.94 2.06-2.06.94zm-11 1L8.5 8.5l.94-2.06 2.06-.94-2.06-.94L8.5 2.5l-.94 2.06-2.06.94zm10 10l.94 2.06.94-2.06 2.06-.94-2.06-.94-.94-2.06-.94 2.06-2.06.94z\"/><path d=\"M17.41 7.96l-1.37-1.37c-.4-.4-.92-.59-1.43-.59-.52 0-1.04.2-1.43.59L10.3 9.45l-7.72 7.72c-.78.78-.78 2.05 0 2.83L4 21.41c.39.39.9.59 1.41.59.51 0 1.02-.2 1.41-.59l7.78-7.78 2.81-2.81c.8-.78.8-2.07 0-2.86zM5.41 20L4 18.59l7.72-7.72 1.47 1.35L5.41 20z\"/>\n",
              "  </svg>\n",
              "      </button>\n",
              "      \n",
              "  <style>\n",
              "    .colab-df-container {\n",
              "      display:flex;\n",
              "      flex-wrap:wrap;\n",
              "      gap: 12px;\n",
              "    }\n",
              "\n",
              "    .colab-df-convert {\n",
              "      background-color: #E8F0FE;\n",
              "      border: none;\n",
              "      border-radius: 50%;\n",
              "      cursor: pointer;\n",
              "      display: none;\n",
              "      fill: #1967D2;\n",
              "      height: 32px;\n",
              "      padding: 0 0 0 0;\n",
              "      width: 32px;\n",
              "    }\n",
              "\n",
              "    .colab-df-convert:hover {\n",
              "      background-color: #E2EBFA;\n",
              "      box-shadow: 0px 1px 2px rgba(60, 64, 67, 0.3), 0px 1px 3px 1px rgba(60, 64, 67, 0.15);\n",
              "      fill: #174EA6;\n",
              "    }\n",
              "\n",
              "    [theme=dark] .colab-df-convert {\n",
              "      background-color: #3B4455;\n",
              "      fill: #D2E3FC;\n",
              "    }\n",
              "\n",
              "    [theme=dark] .colab-df-convert:hover {\n",
              "      background-color: #434B5C;\n",
              "      box-shadow: 0px 1px 3px 1px rgba(0, 0, 0, 0.15);\n",
              "      filter: drop-shadow(0px 1px 2px rgba(0, 0, 0, 0.3));\n",
              "      fill: #FFFFFF;\n",
              "    }\n",
              "  </style>\n",
              "\n",
              "      <script>\n",
              "        const buttonEl =\n",
              "          document.querySelector('#df-a50777d1-135b-47e3-92d9-ad8205483106 button.colab-df-convert');\n",
              "        buttonEl.style.display =\n",
              "          google.colab.kernel.accessAllowed ? 'block' : 'none';\n",
              "\n",
              "        async function convertToInteractive(key) {\n",
              "          const element = document.querySelector('#df-a50777d1-135b-47e3-92d9-ad8205483106');\n",
              "          const dataTable =\n",
              "            await google.colab.kernel.invokeFunction('convertToInteractive',\n",
              "                                                     [key], {});\n",
              "          if (!dataTable) return;\n",
              "\n",
              "          const docLinkHtml = 'Like what you see? Visit the ' +\n",
              "            '<a target=\"_blank\" href=https://colab.research.google.com/notebooks/data_table.ipynb>data table notebook</a>'\n",
              "            + ' to learn more about interactive tables.';\n",
              "          element.innerHTML = '';\n",
              "          dataTable['output_type'] = 'display_data';\n",
              "          await google.colab.output.renderOutput(dataTable, element);\n",
              "          const docLink = document.createElement('div');\n",
              "          docLink.innerHTML = docLinkHtml;\n",
              "          element.appendChild(docLink);\n",
              "        }\n",
              "      </script>\n",
              "    </div>\n",
              "  </div>\n",
              "  "
            ]
          },
          "metadata": {},
          "execution_count": 88
        }
      ]
    }
  ],
  "metadata": {
    "colab": {
      "collapsed_sections": [],
      "name": "SamplingHugeCSV.ipynb",
      "provenance": []
    },
    "kernelspec": {
      "display_name": "Python 3",
      "name": "python3"
    },
    "language_info": {
      "name": "python"
    }
  },
  "nbformat": 4,
  "nbformat_minor": 0
}