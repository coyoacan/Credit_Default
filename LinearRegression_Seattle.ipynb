{
  "cells": [
    {
      "cell_type": "markdown",
      "metadata": {
        "id": "QLA_cRWHZkKm"
      },
      "source": [
        "# SGD vs Linear Regression \n",
        "# Primero Inflar la data de Seattle e importar herramientas🎈"
      ]
    },
    {
      "cell_type": "markdown",
      "source": [
        "1. Utilizar el data set de la \"Librería de Seattle\" para calcular el número de check-outs por año.\n",
        "2. Implementar el algoritmo de regresión lineal en línea usando stochastic gradient descent y ajustarlo a los check-outs por año.\n",
        "3. Ajustar una regresión a los check-outs por año usando el método LinearRegression de sklearn y compararlo con el resultado de paso 2.\n",
        "Entregar un reporte en pdf que contenga la comparación de las dos regresiones, el código de la regresión lineal en línea y las conclusiones que hayan obtenido."
      ],
      "metadata": {
        "id": "1v0JONLRcpDh"
      }
    },
    {
      "cell_type": "code",
      "execution_count": 133,
      "metadata": {
        "id": "xbdkUULra_nx",
        "colab": {
          "base_uri": "https://localhost:8080/"
        },
        "outputId": "93def015-f869-4535-fc81-70328e418d1f"
      },
      "outputs": [
        {
          "output_type": "stream",
          "name": "stdout",
          "text": [
            "Looking in indexes: https://pypi.org/simple, https://us-python.pkg.dev/colab-wheels/public/simple/\n",
            "Requirement already satisfied: dask[complete] in /usr/local/lib/python3.7/dist-packages (2.12.0)\n",
            "Requirement already satisfied: partd>=0.3.10 in /usr/local/lib/python3.7/dist-packages (from dask[complete]) (1.3.0)\n",
            "Requirement already satisfied: numpy>=1.13.0 in /usr/local/lib/python3.7/dist-packages (from dask[complete]) (1.21.6)\n",
            "Requirement already satisfied: bokeh>=1.0.0 in /usr/local/lib/python3.7/dist-packages (from dask[complete]) (2.3.3)\n",
            "Requirement already satisfied: toolz>=0.7.3 in /usr/local/lib/python3.7/dist-packages (from dask[complete]) (0.12.0)\n",
            "Requirement already satisfied: pandas>=0.23.0 in /usr/local/lib/python3.7/dist-packages (from dask[complete]) (1.3.5)\n",
            "Requirement already satisfied: fsspec>=0.6.0 in /usr/local/lib/python3.7/dist-packages (from dask[complete]) (2022.7.1)\n",
            "Requirement already satisfied: distributed>=2.0 in /usr/local/lib/python3.7/dist-packages (from dask[complete]) (2.30.1)\n",
            "Requirement already satisfied: cloudpickle>=0.2.1 in /usr/local/lib/python3.7/dist-packages (from dask[complete]) (2.1.0)\n",
            "Requirement already satisfied: PyYaml in /usr/local/lib/python3.7/dist-packages (from dask[complete]) (3.13)\n",
            "Requirement already satisfied: Jinja2>=2.9 in /usr/local/lib/python3.7/dist-packages (from bokeh>=1.0.0->dask[complete]) (2.11.3)\n",
            "Requirement already satisfied: tornado>=5.1 in /usr/local/lib/python3.7/dist-packages (from bokeh>=1.0.0->dask[complete]) (5.1.1)\n",
            "Requirement already satisfied: typing-extensions>=3.7.4 in /usr/local/lib/python3.7/dist-packages (from bokeh>=1.0.0->dask[complete]) (4.1.1)\n",
            "Requirement already satisfied: packaging>=16.8 in /usr/local/lib/python3.7/dist-packages (from bokeh>=1.0.0->dask[complete]) (21.3)\n",
            "Requirement already satisfied: pillow>=7.1.0 in /usr/local/lib/python3.7/dist-packages (from bokeh>=1.0.0->dask[complete]) (7.1.2)\n",
            "Requirement already satisfied: python-dateutil>=2.1 in /usr/local/lib/python3.7/dist-packages (from bokeh>=1.0.0->dask[complete]) (2.8.2)\n",
            "Requirement already satisfied: psutil>=5.0 in /usr/local/lib/python3.7/dist-packages (from distributed>=2.0->dask[complete]) (5.4.8)\n",
            "Requirement already satisfied: msgpack>=0.6.0 in /usr/local/lib/python3.7/dist-packages (from distributed>=2.0->dask[complete]) (1.0.4)\n",
            "Requirement already satisfied: click>=6.6 in /usr/local/lib/python3.7/dist-packages (from distributed>=2.0->dask[complete]) (7.1.2)\n",
            "Requirement already satisfied: zict>=0.1.3 in /usr/local/lib/python3.7/dist-packages (from distributed>=2.0->dask[complete]) (2.2.0)\n",
            "Requirement already satisfied: tblib>=1.6.0 in /usr/local/lib/python3.7/dist-packages (from distributed>=2.0->dask[complete]) (1.7.0)\n",
            "Requirement already satisfied: setuptools in /usr/local/lib/python3.7/dist-packages (from distributed>=2.0->dask[complete]) (57.4.0)\n",
            "Requirement already satisfied: sortedcontainers!=2.0.0,!=2.0.1 in /usr/local/lib/python3.7/dist-packages (from distributed>=2.0->dask[complete]) (2.4.0)\n",
            "Requirement already satisfied: MarkupSafe>=0.23 in /usr/local/lib/python3.7/dist-packages (from Jinja2>=2.9->bokeh>=1.0.0->dask[complete]) (2.0.1)\n",
            "Requirement already satisfied: pyparsing!=3.0.5,>=2.0.2 in /usr/local/lib/python3.7/dist-packages (from packaging>=16.8->bokeh>=1.0.0->dask[complete]) (3.0.9)\n",
            "Requirement already satisfied: pytz>=2017.3 in /usr/local/lib/python3.7/dist-packages (from pandas>=0.23.0->dask[complete]) (2022.1)\n",
            "Requirement already satisfied: locket in /usr/local/lib/python3.7/dist-packages (from partd>=0.3.10->dask[complete]) (1.0.0)\n",
            "Requirement already satisfied: six>=1.5 in /usr/local/lib/python3.7/dist-packages (from python-dateutil>=2.1->bokeh>=1.0.0->dask[complete]) (1.15.0)\n",
            "Requirement already satisfied: heapdict in /usr/local/lib/python3.7/dist-packages (from zict>=0.1.3->distributed>=2.0->dask[complete]) (1.0.1)\n"
          ]
        }
      ],
      "source": [
        "#Importamos muchas cosas diría lady Wooo\n",
        "!python -m pip install \"dask[complete]\"\n",
        "import pandas as pd\n",
        "import numpy as np\n",
        "import random\n",
        "import csv\n",
        "import time\n",
        "import matplotlib.pyplot as plt\n",
        "from matplotlib.ticker import PercentFormatter\n",
        "from sklearn.preprocessing import StandardScaler\n",
        "from sklearn.preprocessing import scale\n",
        "from sklearn.preprocessing import MinMaxScaler\n",
        "from sklearn.linear_model import LogisticRegression\n",
        "from sklearn.linear_model import SGDRegressor\n",
        "from sklearn.metrics import mean_squared_error\n",
        "from sklearn.model_selection import train_test_split\n",
        "from sklearn.model_selection import cross_val_score\n",
        "#Este paso es el más importante, usamos DASK para no consumir RAM y hacerlo rápido\n",
        "import dask\n",
        "import dask.dataframe as dd"
      ]
    },
    {
      "cell_type": "code",
      "execution_count": null,
      "metadata": {
        "colab": {
          "base_uri": "https://localhost:8080/"
        },
        "id": "nurn8EmZcYvx",
        "outputId": "1001115d-911c-4281-fb24-81681653493e"
      },
      "outputs": [
        {
          "output_type": "stream",
          "name": "stdout",
          "text": [
            "Mounted at /content/drive\n"
          ]
        }
      ],
      "source": [
        "#Conecto mi DRIVE donde ya está el comprimido checkouts_seattle\n",
        "from google.colab import drive\n",
        "drive.mount('/content/drive')"
      ]
    },
    {
      "cell_type": "code",
      "execution_count": null,
      "metadata": {
        "colab": {
          "base_uri": "https://localhost:8080/"
        },
        "id": "yOlHB6LkcY2h",
        "outputId": "49c77f66-b8eb-4bd7-f97f-5e146e91a1d3"
      },
      "outputs": [
        {
          "output_type": "stream",
          "name": "stdout",
          "text": [
            "Archive:  drive/MyDrive/checkouts_seattle.zip\n",
            "  inflating: Checkouts by Title FAQs.pdf  \n",
            "  inflating: checkouts-by-title.csv  \n",
            "  inflating: socrata_metadata.json   \n",
            "CPU times: user 948 ms, sys: 121 ms, total: 1.07 s\n",
            "Wall time: 1min 45s\n"
          ]
        }
      ],
      "source": [
        "%%time\n",
        "!unzip drive/MyDrive/checkouts_seattle.zip"
      ]
    },
    {
      "cell_type": "markdown",
      "metadata": {
        "id": "4DuSj7L2bR0E"
      },
      "source": [
        "# Sampling de 350k líneas y Tablita Checkouts x Año\n",
        "# ¡Dask es mi señor! en Dask confío hehe 😎"
      ]
    },
    {
      "cell_type": "markdown",
      "metadata": {
        "id": "ju9xdnQneJi8"
      },
      "source": [
        "Vemos que el CSV de Seattle tiene 7.13GB de tamaño y 35 millones de líneas (34,892,624). Por tanto, podríamos tener un muestreo k de 350,000 por ejemplo. Este muestreo sería del 1%. Posteriormente pongo esa muestra en un pandas DF"
      ]
    },
    {
      "cell_type": "code",
      "source": [
        "#--DASK es super bueno para este tipo de trabajos porque:\n",
        "# Dask, a flexible parallel computing library for Python. \n",
        "# Among many other features, Dask provides an API that emulates Pandas, \n",
        "# while implementing chunking and parallelization transparently.\n",
        "start = time.time()\n",
        "dask_df = dd.read_csv('/content/checkouts-by-title.csv')\n",
        "end = time.time()\n",
        "print(\"Tiempo de lectura del BIG CSV: \",(end-start),\"sec\")\n",
        "start = time.time()\n",
        "dfs = dask_df.sample(frac=0.01, replace=False, random_state=1)\n",
        "end = time.time()\n",
        "print(\"Tiempo del Sampling DASK: \",(end-start),\"sec\")\n",
        "start = time.time()\n",
        "df = dfs.compute()\n",
        "end = time.time()\n",
        "print(\"Tiempo de paso a Pandas\",(end-start),\"sec\")"
      ],
      "metadata": {
        "colab": {
          "base_uri": "https://localhost:8080/"
        },
        "id": "W4iX605J8R_c",
        "outputId": "0bc2fc7f-692b-4641-eed2-767cf2403a31"
      },
      "execution_count": null,
      "outputs": [
        {
          "output_type": "stream",
          "name": "stdout",
          "text": [
            "Tiempo de lectura del BIG CSV:  0.14317560195922852 sec\n",
            "Tiempo del Sampling DASK:  0.008031129837036133 sec\n",
            "Tiempo de paso a Pandas 179.07976365089417 sec\n"
          ]
        }
      ]
    },
    {
      "cell_type": "code",
      "source": [
        "#Genero la tablita que usaré para la regresión lineal y el SGD home-made\n",
        "tablita = df.groupby(['CheckoutYear'], as_index=False).agg(CO=pd.NamedAgg(column=\"Checkouts\", aggfunc=\"sum\"))\n",
        "tablita.rename(columns = {'CheckoutYear':'YR'}, inplace = True)\n",
        "tablitasorted = tablita.sort_values(by='YR', ascending=True, ignore_index=True)\n",
        "tablitasorted"
      ],
      "metadata": {
        "id": "Om7X978ZJaBS",
        "colab": {
          "base_uri": "https://localhost:8080/",
          "height": 520
        },
        "outputId": "31feb376-0747-467d-da95-36eeb3192c77"
      },
      "execution_count": null,
      "outputs": [
        {
          "output_type": "execute_result",
          "data": {
            "text/plain": [
              "      YR     CO\n",
              "0   2005  34276\n",
              "1   2006  74581\n",
              "2   2007  71220\n",
              "3   2008  82107\n",
              "4   2009  87709\n",
              "5   2010  90168\n",
              "6   2011  83189\n",
              "7   2012  74803\n",
              "8   2013  94443\n",
              "9   2014  94389\n",
              "10  2015  90976\n",
              "11  2016  86446\n",
              "12  2017  88329\n",
              "13  2018  93956\n",
              "14  2019  82183"
            ],
            "text/html": [
              "\n",
              "  <div id=\"df-c2ebc37b-8909-46b9-8e51-8588db51fe90\">\n",
              "    <div class=\"colab-df-container\">\n",
              "      <div>\n",
              "<style scoped>\n",
              "    .dataframe tbody tr th:only-of-type {\n",
              "        vertical-align: middle;\n",
              "    }\n",
              "\n",
              "    .dataframe tbody tr th {\n",
              "        vertical-align: top;\n",
              "    }\n",
              "\n",
              "    .dataframe thead th {\n",
              "        text-align: right;\n",
              "    }\n",
              "</style>\n",
              "<table border=\"1\" class=\"dataframe\">\n",
              "  <thead>\n",
              "    <tr style=\"text-align: right;\">\n",
              "      <th></th>\n",
              "      <th>YR</th>\n",
              "      <th>CO</th>\n",
              "    </tr>\n",
              "  </thead>\n",
              "  <tbody>\n",
              "    <tr>\n",
              "      <th>0</th>\n",
              "      <td>2005</td>\n",
              "      <td>34276</td>\n",
              "    </tr>\n",
              "    <tr>\n",
              "      <th>1</th>\n",
              "      <td>2006</td>\n",
              "      <td>74581</td>\n",
              "    </tr>\n",
              "    <tr>\n",
              "      <th>2</th>\n",
              "      <td>2007</td>\n",
              "      <td>71220</td>\n",
              "    </tr>\n",
              "    <tr>\n",
              "      <th>3</th>\n",
              "      <td>2008</td>\n",
              "      <td>82107</td>\n",
              "    </tr>\n",
              "    <tr>\n",
              "      <th>4</th>\n",
              "      <td>2009</td>\n",
              "      <td>87709</td>\n",
              "    </tr>\n",
              "    <tr>\n",
              "      <th>5</th>\n",
              "      <td>2010</td>\n",
              "      <td>90168</td>\n",
              "    </tr>\n",
              "    <tr>\n",
              "      <th>6</th>\n",
              "      <td>2011</td>\n",
              "      <td>83189</td>\n",
              "    </tr>\n",
              "    <tr>\n",
              "      <th>7</th>\n",
              "      <td>2012</td>\n",
              "      <td>74803</td>\n",
              "    </tr>\n",
              "    <tr>\n",
              "      <th>8</th>\n",
              "      <td>2013</td>\n",
              "      <td>94443</td>\n",
              "    </tr>\n",
              "    <tr>\n",
              "      <th>9</th>\n",
              "      <td>2014</td>\n",
              "      <td>94389</td>\n",
              "    </tr>\n",
              "    <tr>\n",
              "      <th>10</th>\n",
              "      <td>2015</td>\n",
              "      <td>90976</td>\n",
              "    </tr>\n",
              "    <tr>\n",
              "      <th>11</th>\n",
              "      <td>2016</td>\n",
              "      <td>86446</td>\n",
              "    </tr>\n",
              "    <tr>\n",
              "      <th>12</th>\n",
              "      <td>2017</td>\n",
              "      <td>88329</td>\n",
              "    </tr>\n",
              "    <tr>\n",
              "      <th>13</th>\n",
              "      <td>2018</td>\n",
              "      <td>93956</td>\n",
              "    </tr>\n",
              "    <tr>\n",
              "      <th>14</th>\n",
              "      <td>2019</td>\n",
              "      <td>82183</td>\n",
              "    </tr>\n",
              "  </tbody>\n",
              "</table>\n",
              "</div>\n",
              "      <button class=\"colab-df-convert\" onclick=\"convertToInteractive('df-c2ebc37b-8909-46b9-8e51-8588db51fe90')\"\n",
              "              title=\"Convert this dataframe to an interactive table.\"\n",
              "              style=\"display:none;\">\n",
              "        \n",
              "  <svg xmlns=\"http://www.w3.org/2000/svg\" height=\"24px\"viewBox=\"0 0 24 24\"\n",
              "       width=\"24px\">\n",
              "    <path d=\"M0 0h24v24H0V0z\" fill=\"none\"/>\n",
              "    <path d=\"M18.56 5.44l.94 2.06.94-2.06 2.06-.94-2.06-.94-.94-2.06-.94 2.06-2.06.94zm-11 1L8.5 8.5l.94-2.06 2.06-.94-2.06-.94L8.5 2.5l-.94 2.06-2.06.94zm10 10l.94 2.06.94-2.06 2.06-.94-2.06-.94-.94-2.06-.94 2.06-2.06.94z\"/><path d=\"M17.41 7.96l-1.37-1.37c-.4-.4-.92-.59-1.43-.59-.52 0-1.04.2-1.43.59L10.3 9.45l-7.72 7.72c-.78.78-.78 2.05 0 2.83L4 21.41c.39.39.9.59 1.41.59.51 0 1.02-.2 1.41-.59l7.78-7.78 2.81-2.81c.8-.78.8-2.07 0-2.86zM5.41 20L4 18.59l7.72-7.72 1.47 1.35L5.41 20z\"/>\n",
              "  </svg>\n",
              "      </button>\n",
              "      \n",
              "  <style>\n",
              "    .colab-df-container {\n",
              "      display:flex;\n",
              "      flex-wrap:wrap;\n",
              "      gap: 12px;\n",
              "    }\n",
              "\n",
              "    .colab-df-convert {\n",
              "      background-color: #E8F0FE;\n",
              "      border: none;\n",
              "      border-radius: 50%;\n",
              "      cursor: pointer;\n",
              "      display: none;\n",
              "      fill: #1967D2;\n",
              "      height: 32px;\n",
              "      padding: 0 0 0 0;\n",
              "      width: 32px;\n",
              "    }\n",
              "\n",
              "    .colab-df-convert:hover {\n",
              "      background-color: #E2EBFA;\n",
              "      box-shadow: 0px 1px 2px rgba(60, 64, 67, 0.3), 0px 1px 3px 1px rgba(60, 64, 67, 0.15);\n",
              "      fill: #174EA6;\n",
              "    }\n",
              "\n",
              "    [theme=dark] .colab-df-convert {\n",
              "      background-color: #3B4455;\n",
              "      fill: #D2E3FC;\n",
              "    }\n",
              "\n",
              "    [theme=dark] .colab-df-convert:hover {\n",
              "      background-color: #434B5C;\n",
              "      box-shadow: 0px 1px 3px 1px rgba(0, 0, 0, 0.15);\n",
              "      filter: drop-shadow(0px 1px 2px rgba(0, 0, 0, 0.3));\n",
              "      fill: #FFFFFF;\n",
              "    }\n",
              "  </style>\n",
              "\n",
              "      <script>\n",
              "        const buttonEl =\n",
              "          document.querySelector('#df-c2ebc37b-8909-46b9-8e51-8588db51fe90 button.colab-df-convert');\n",
              "        buttonEl.style.display =\n",
              "          google.colab.kernel.accessAllowed ? 'block' : 'none';\n",
              "\n",
              "        async function convertToInteractive(key) {\n",
              "          const element = document.querySelector('#df-c2ebc37b-8909-46b9-8e51-8588db51fe90');\n",
              "          const dataTable =\n",
              "            await google.colab.kernel.invokeFunction('convertToInteractive',\n",
              "                                                     [key], {});\n",
              "          if (!dataTable) return;\n",
              "\n",
              "          const docLinkHtml = 'Like what you see? Visit the ' +\n",
              "            '<a target=\"_blank\" href=https://colab.research.google.com/notebooks/data_table.ipynb>data table notebook</a>'\n",
              "            + ' to learn more about interactive tables.';\n",
              "          element.innerHTML = '';\n",
              "          dataTable['output_type'] = 'display_data';\n",
              "          await google.colab.output.renderOutput(dataTable, element);\n",
              "          const docLink = document.createElement('div');\n",
              "          docLink.innerHTML = docLinkHtml;\n",
              "          element.appendChild(docLink);\n",
              "        }\n",
              "      </script>\n",
              "    </div>\n",
              "  </div>\n",
              "  "
            ]
          },
          "metadata": {},
          "execution_count": 10
        }
      ]
    },
    {
      "cell_type": "markdown",
      "source": [
        "# Ahora la Regresión lineal vs SGD home-made\n",
        "# Hacemos código y unos charts coquetos ⛪"
      ],
      "metadata": {
        "id": "MChIP2icLULd"
      }
    },
    {
      "cell_type": "markdown",
      "source": [
        "Primero lo primero la REGRESIÓN LINEAL"
      ],
      "metadata": {
        "id": "yAKtrPMWOqjb"
      }
    },
    {
      "cell_type": "code",
      "source": [
        "# Primero importamos scipy para regresión lineal\n",
        "from scipy import stats"
      ],
      "metadata": {
        "id": "UWeKd9x1L4Vq"
      },
      "execution_count": null,
      "outputs": []
    },
    {
      "cell_type": "code",
      "source": [
        "#Ploteamos un poquillo los números ántes de hacer la regresión lineal con scipy\n",
        "#Hacemos un SQUEEZE para quitarle 1 dimensión y dejar un array 1D\n",
        "y = tablitasorted.drop(['YR'], axis=1).to_numpy().squeeze()\n",
        "x = tablitasorted.drop(['CO'], axis=1).to_numpy().squeeze()\n",
        "plt.scatter(x, y)\n",
        "plt.show()"
      ],
      "metadata": {
        "colab": {
          "base_uri": "https://localhost:8080/",
          "height": 265
        },
        "id": "hJH0sZO6MScG",
        "outputId": "a792c143-7e98-4764-f3b9-e49727685fc7"
      },
      "execution_count": null,
      "outputs": [
        {
          "output_type": "display_data",
          "data": {
            "text/plain": [
              "<Figure size 432x288 with 1 Axes>"
            ],
            "image/png": "[encoded data removed]"
          },
          "metadata": {
            "needs_background": "light"
          }
        }
      ]
    },
    {
      "cell_type": "code",
      "source": [
        "#Hacemos la regresión lineal, obtenemos la R y ploteamos durísimo!!!\n",
        "slope, intercept, r_lr, p, std_err = stats.linregress(x, y)\n",
        "def myfunc(x):\n",
        "  return slope * x + intercept\n",
        "mymodel = list(map(myfunc, x))\n",
        "plt.scatter(x, y)\n",
        "plt.plot(x, mymodel)\n",
        "plt.show()"
      ],
      "metadata": {
        "id": "rNznHKod3xDe",
        "colab": {
          "base_uri": "https://localhost:8080/",
          "height": 265
        },
        "outputId": "e755a267-6c3e-4448-af3a-265546d8daa7"
      },
      "execution_count": null,
      "outputs": [
        {
          "output_type": "display_data",
          "data": {
            "text/plain": [
              "<Figure size 432x288 with 1 Axes>"
            ],
            "image/png": "[encoded data removed]"
          },
          "metadata": {
            "needs_background": "light"
          }
        }
      ]
    },
    {
      "cell_type": "markdown",
      "source": [
        "Segundo, un código SGD HECHO EN CASA (Regresión lineal en línea)"
      ],
      "metadata": {
        "id": "9zZBsW5uQC7E"
      }
    },
    {
      "cell_type": "code",
      "source": [
        "#Si señor, me fusilé este código de:\n",
        "#https://medium.com/@nikhilparmar9/simple-sgd-implementation-in-python-for-linear-regression-on-boston-housing-data-f63fcaaecfb1\n",
        "#Créditos al señor Nikhil Parmar que hizo esto en 2019\n",
        "def MyCustomSGD(train_data,learning_rate,n_iter,k,divideby):\n",
        "    \n",
        "    # Initially we will keep our W and B as 0 as per the Training Data\n",
        "    w=np.zeros(shape=(1,train_data.shape[1]-1))\n",
        "    b=0\n",
        "    \n",
        "    cur_iter=1\n",
        "    while(cur_iter<=n_iter): \n",
        "\n",
        "        # We will create a small training data set of size K\n",
        "        temp=train_data.sample(k)\n",
        "        \n",
        "        # We create our X and Y from the above temp dataset\n",
        "        # By the way we scale this shit first to improve the model\n",
        "        y = temp.drop(['YR'], axis=1).to_numpy().squeeze()\n",
        "        x = temp.drop(['CO'], axis=1).to_numpy().squeeze()\n",
        "        x = scale(x)\n",
        "        y = scale(y)\n",
        "        \n",
        "        # We keep our initial gradients as 0\n",
        "        w_gradient=np.zeros(shape=(1,train_data.shape[1]-1))\n",
        "        b_gradient=0\n",
        "        \n",
        "        for i in range(k): # Calculating gradients for point in our K sized dataset\n",
        "            prediction=np.dot(w,x[i])+b\n",
        "            w_gradient=w_gradient+(-2)*x[i]*(y[i]-(prediction))\n",
        "            b_gradient=b_gradient+(-2)*(y[i]-(prediction))\n",
        "        \n",
        "        #Updating the weights(W) and Bias(b) with the above calculated Gradients\n",
        "        w=w-learning_rate*(w_gradient/k)\n",
        "        b=b-learning_rate*(b_gradient/k)\n",
        "        \n",
        "        # Incrementing the iteration value\n",
        "        cur_iter=cur_iter+1\n",
        "        \n",
        "        #Dividing the learning rate by the specified value\n",
        "        learning_rate=learning_rate/divideby\n",
        "        \n",
        "    return w,b #Returning the weights and Bias"
      ],
      "metadata": {
        "id": "b808p_uLQCi-"
      },
      "execution_count": 150,
      "outputs": []
    },
    {
      "cell_type": "markdown",
      "source": [
        "Usamos nuestro modelito Home Made SGD para plotear tokio morokio"
      ],
      "metadata": {
        "id": "j-zBupujTUae"
      }
    },
    {
      "cell_type": "code",
      "source": [
        "w,b=MyCustomSGD(tablitasorted,learning_rate=1,n_iter=100,divideby=2,k=10)"
      ],
      "metadata": {
        "id": "ZXiPD6PqR9mz"
      },
      "execution_count": 154,
      "outputs": []
    },
    {
      "cell_type": "code",
      "source": [
        "slope = w[0][0]\n",
        "intercept = b[0][0]\n",
        "print(\"slope is:\",slope,\"intercept is:\",intercept)"
      ],
      "metadata": {
        "colab": {
          "base_uri": "https://localhost:8080/"
        },
        "id": "NIb4NnB4UD_K",
        "outputId": "7f4c7e43-db73-49bd-8e21-9b66e03d337a"
      },
      "execution_count": 155,
      "outputs": [
        {
          "output_type": "stream",
          "name": "stdout",
          "text": [
            "slope is: 0.6721549875779492 intercept is: -4.9800047132944105e-15\n"
          ]
        }
      ]
    },
    {
      "cell_type": "code",
      "source": [
        "#Escalamos x,y para plotear los resultados nuevamente\n",
        "x=scale(x)\n",
        "y=scale(y)\n",
        "def myfunc(x):\n",
        "  return slope * x + intercept\n",
        "mymodel = list(map(myfunc, x))\n",
        "plt.scatter(x, y)\n",
        "plt.plot(x, mymodel)\n",
        "plt.show()"
      ],
      "metadata": {
        "colab": {
          "base_uri": "https://localhost:8080/",
          "height": 265
        },
        "id": "0P2H-JCVT2Cg",
        "outputId": "2a0f4e1f-7fe8-4da1-b975-a76a9f01462f"
      },
      "execution_count": 157,
      "outputs": [
        {
          "output_type": "display_data",
          "data": {
            "text/plain": [
              "<Figure size 432x288 with 1 Axes>"
            ],
            "image/png": "[encoded data removed]"
          },
          "metadata": {
            "needs_background": "light"
          }
        }
      ]
    },
    {
      "cell_type": "markdown",
      "source": [
        "# Comparar las R y sacar conclusiones"
      ],
      "metadata": {
        "id": "jh0PAkEWbeDA"
      }
    },
    {
      "cell_type": "code",
      "source": [
        "#Una pequeña función para predecir las Y dado el modelo SGD\n",
        "def predict(x,w,b):\n",
        "    y_pred=[]\n",
        "    for i in range(len(x)):\n",
        "        y=np.dot(w,x[i])+b\n",
        "        y_pred.append(y)\n",
        "    return np.array(y_pred)"
      ],
      "metadata": {
        "id": "6VG_BDLDb-08"
      },
      "execution_count": 163,
      "outputs": []
    },
    {
      "cell_type": "code",
      "source": [
        "y_pred_customsgd=predict(x,slope,intercept)\n",
        "print('Mean Squared Error for HOME-MADE SGD :',mean_squared_error(y, y_pred_customsgd))\n",
        "print('Mean Squared Error for Scipy R^2 :',r_lr)\n",
        "print('Make your conclusions b*tch!')"
      ],
      "metadata": {
        "colab": {
          "base_uri": "https://localhost:8080/"
        },
        "id": "G1icGbZdccLV",
        "outputId": "03aa09c5-bbd4-4688-bd15-d8a9f7798112"
      },
      "execution_count": 166,
      "outputs": [
        {
          "output_type": "stream",
          "name": "stdout",
          "text": [
            "Mean Squared Error for HOME-MADE SGD : 0.6214921728112589\n",
            "Mean Squared Error for Scipy R^2 : 0.6176404027786561\n",
            "Make your conclusions b*tch!\n"
          ]
        }
      ]
    },
    {
      "cell_type": "code",
      "source": [
        ""
      ],
      "metadata": {
        "id": "KjDyvkX6dExr"
      },
      "execution_count": null,
      "outputs": []
    }
  ],
  "metadata": {
    "colab": {
      "collapsed_sections": [],
      "name": "LinearRegression_Seattle.ipynb",
      "provenance": [],
      "toc_visible": true
    },
    "kernelspec": {
      "display_name": "Python 3",
      "name": "python3"
    },
    "language_info": {
      "name": "python"
    }
  },
  "nbformat": 4,
  "nbformat_minor": 0
}