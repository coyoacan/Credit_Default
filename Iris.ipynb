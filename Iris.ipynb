{
  "nbformat": 4,
  "nbformat_minor": 0,
  "metadata": {
    "colab": {
      "name": "Iris.ipynb",
      "provenance": [],
      "collapsed_sections": [],
      "toc_visible": true
    },
    "kernelspec": {
      "name": "python3",
      "display_name": "Python 3"
    },
    "language_info": {
      "name": "python"
    }
  },
  "cells": [
    {
      "cell_type": "markdown",
      "source": [
        "# IRIS - Largo de los sépalos  🌻"
      ],
      "metadata": {
        "id": "9rjecHMzS_4k"
      }
    },
    {
      "cell_type": "markdown",
      "source": [
        "A) Describir Propiedades B) Probar que las diferencias entre largo de los sépalos no son al azar"
      ],
      "metadata": {
        "id": "fTf9Ky5pTNFk"
      }
    },
    {
      "cell_type": "code",
      "source": [
        "#Primero importamos todo lo que se necesita para el análisis y un poquito mas\n",
        "import pandas as pd\n",
        "import numpy as np\n",
        "import matplotlib.pyplot as plt\n",
        "import seaborn as sns"
      ],
      "metadata": {
        "id": "8e1vR7R1E2d7"
      },
      "execution_count": 1,
      "outputs": []
    },
    {
      "cell_type": "code",
      "source": [
        "#Ahora bajo el dataset IRIS de seaborn\n",
        "iris=sns.load_dataset('iris')"
      ],
      "metadata": {
        "id": "A05Yi8g1TsyV"
      },
      "execution_count": 2,
      "outputs": []
    },
    {
      "cell_type": "code",
      "source": [
        "#Veo que rayos hay dentro del DataFrame\n",
        "iris.dtypes"
      ],
      "metadata": {
        "colab": {
          "base_uri": "https://localhost:8080/"
        },
        "id": "n4puHYeeUCMY",
        "outputId": "f67e6b4e-11be-4200-f199-f2da266c8c69"
      },
      "execution_count": 3,
      "outputs": [
        {
          "output_type": "execute_result",
          "data": {
            "text/plain": [
              "sepal_length    float64\n",
              "sepal_width     float64\n",
              "petal_length    float64\n",
              "petal_width     float64\n",
              "species          object\n",
              "dtype: object"
            ]
          },
          "metadata": {},
          "execution_count": 3
        }
      ]
    },
    {
      "cell_type": "code",
      "source": [
        "#Hacemos una pequeña descripción de las variables numéricas del set de datos\n",
        "iris.describe().T"
      ],
      "metadata": {
        "colab": {
          "base_uri": "https://localhost:8080/",
          "height": 175
        },
        "id": "ik897i2eGcSG",
        "outputId": "229a025c-b8e1-4b34-f699-ec7cb674f1ce"
      },
      "execution_count": 4,
      "outputs": [
        {
          "output_type": "execute_result",
          "data": {
            "text/plain": [
              "              count      mean       std  min  25%   50%  75%  max\n",
              "sepal_length  150.0  5.843333  0.828066  4.3  5.1  5.80  6.4  7.9\n",
              "sepal_width   150.0  3.057333  0.435866  2.0  2.8  3.00  3.3  4.4\n",
              "petal_length  150.0  3.758000  1.765298  1.0  1.6  4.35  5.1  6.9\n",
              "petal_width   150.0  1.199333  0.762238  0.1  0.3  1.30  1.8  2.5"
            ],
            "text/html": [
              "\n",
              "  <div id=\"df-1c9478c6-ba51-4c84-a578-50c8bce7bca3\">\n",
              "    <div class=\"colab-df-container\">\n",
              "      <div>\n",
              "<style scoped>\n",
              "    .dataframe tbody tr th:only-of-type {\n",
              "        vertical-align: middle;\n",
              "    }\n",
              "\n",
              "    .dataframe tbody tr th {\n",
              "        vertical-align: top;\n",
              "    }\n",
              "\n",
              "    .dataframe thead th {\n",
              "        text-align: right;\n",
              "    }\n",
              "</style>\n",
              "<table border=\"1\" class=\"dataframe\">\n",
              "  <thead>\n",
              "    <tr style=\"text-align: right;\">\n",
              "      <th></th>\n",
              "      <th>count</th>\n",
              "      <th>mean</th>\n",
              "      <th>std</th>\n",
              "      <th>min</th>\n",
              "      <th>25%</th>\n",
              "      <th>50%</th>\n",
              "      <th>75%</th>\n",
              "      <th>max</th>\n",
              "    </tr>\n",
              "  </thead>\n",
              "  <tbody>\n",
              "    <tr>\n",
              "      <th>sepal_length</th>\n",
              "      <td>150.0</td>\n",
              "      <td>5.843333</td>\n",
              "      <td>0.828066</td>\n",
              "      <td>4.3</td>\n",
              "      <td>5.1</td>\n",
              "      <td>5.80</td>\n",
              "      <td>6.4</td>\n",
              "      <td>7.9</td>\n",
              "    </tr>\n",
              "    <tr>\n",
              "      <th>sepal_width</th>\n",
              "      <td>150.0</td>\n",
              "      <td>3.057333</td>\n",
              "      <td>0.435866</td>\n",
              "      <td>2.0</td>\n",
              "      <td>2.8</td>\n",
              "      <td>3.00</td>\n",
              "      <td>3.3</td>\n",
              "      <td>4.4</td>\n",
              "    </tr>\n",
              "    <tr>\n",
              "      <th>petal_length</th>\n",
              "      <td>150.0</td>\n",
              "      <td>3.758000</td>\n",
              "      <td>1.765298</td>\n",
              "      <td>1.0</td>\n",
              "      <td>1.6</td>\n",
              "      <td>4.35</td>\n",
              "      <td>5.1</td>\n",
              "      <td>6.9</td>\n",
              "    </tr>\n",
              "    <tr>\n",
              "      <th>petal_width</th>\n",
              "      <td>150.0</td>\n",
              "      <td>1.199333</td>\n",
              "      <td>0.762238</td>\n",
              "      <td>0.1</td>\n",
              "      <td>0.3</td>\n",
              "      <td>1.30</td>\n",
              "      <td>1.8</td>\n",
              "      <td>2.5</td>\n",
              "    </tr>\n",
              "  </tbody>\n",
              "</table>\n",
              "</div>\n",
              "      <button class=\"colab-df-convert\" onclick=\"convertToInteractive('df-1c9478c6-ba51-4c84-a578-50c8bce7bca3')\"\n",
              "              title=\"Convert this dataframe to an interactive table.\"\n",
              "              style=\"display:none;\">\n",
              "        \n",
              "  <svg xmlns=\"http://www.w3.org/2000/svg\" height=\"24px\"viewBox=\"0 0 24 24\"\n",
              "       width=\"24px\">\n",
              "    <path d=\"M0 0h24v24H0V0z\" fill=\"none\"/>\n",
              "    <path d=\"M18.56 5.44l.94 2.06.94-2.06 2.06-.94-2.06-.94-.94-2.06-.94 2.06-2.06.94zm-11 1L8.5 8.5l.94-2.06 2.06-.94-2.06-.94L8.5 2.5l-.94 2.06-2.06.94zm10 10l.94 2.06.94-2.06 2.06-.94-2.06-.94-.94-2.06-.94 2.06-2.06.94z\"/><path d=\"M17.41 7.96l-1.37-1.37c-.4-.4-.92-.59-1.43-.59-.52 0-1.04.2-1.43.59L10.3 9.45l-7.72 7.72c-.78.78-.78 2.05 0 2.83L4 21.41c.39.39.9.59 1.41.59.51 0 1.02-.2 1.41-.59l7.78-7.78 2.81-2.81c.8-.78.8-2.07 0-2.86zM5.41 20L4 18.59l7.72-7.72 1.47 1.35L5.41 20z\"/>\n",
              "  </svg>\n",
              "      </button>\n",
              "      \n",
              "  <style>\n",
              "    .colab-df-container {\n",
              "      display:flex;\n",
              "      flex-wrap:wrap;\n",
              "      gap: 12px;\n",
              "    }\n",
              "\n",
              "    .colab-df-convert {\n",
              "      background-color: #E8F0FE;\n",
              "      border: none;\n",
              "      border-radius: 50%;\n",
              "      cursor: pointer;\n",
              "      display: none;\n",
              "      fill: #1967D2;\n",
              "      height: 32px;\n",
              "      padding: 0 0 0 0;\n",
              "      width: 32px;\n",
              "    }\n",
              "\n",
              "    .colab-df-convert:hover {\n",
              "      background-color: #E2EBFA;\n",
              "      box-shadow: 0px 1px 2px rgba(60, 64, 67, 0.3), 0px 1px 3px 1px rgba(60, 64, 67, 0.15);\n",
              "      fill: #174EA6;\n",
              "    }\n",
              "\n",
              "    [theme=dark] .colab-df-convert {\n",
              "      background-color: #3B4455;\n",
              "      fill: #D2E3FC;\n",
              "    }\n",
              "\n",
              "    [theme=dark] .colab-df-convert:hover {\n",
              "      background-color: #434B5C;\n",
              "      box-shadow: 0px 1px 3px 1px rgba(0, 0, 0, 0.15);\n",
              "      filter: drop-shadow(0px 1px 2px rgba(0, 0, 0, 0.3));\n",
              "      fill: #FFFFFF;\n",
              "    }\n",
              "  </style>\n",
              "\n",
              "      <script>\n",
              "        const buttonEl =\n",
              "          document.querySelector('#df-1c9478c6-ba51-4c84-a578-50c8bce7bca3 button.colab-df-convert');\n",
              "        buttonEl.style.display =\n",
              "          google.colab.kernel.accessAllowed ? 'block' : 'none';\n",
              "\n",
              "        async function convertToInteractive(key) {\n",
              "          const element = document.querySelector('#df-1c9478c6-ba51-4c84-a578-50c8bce7bca3');\n",
              "          const dataTable =\n",
              "            await google.colab.kernel.invokeFunction('convertToInteractive',\n",
              "                                                     [key], {});\n",
              "          if (!dataTable) return;\n",
              "\n",
              "          const docLinkHtml = 'Like what you see? Visit the ' +\n",
              "            '<a target=\"_blank\" href=https://colab.research.google.com/notebooks/data_table.ipynb>data table notebook</a>'\n",
              "            + ' to learn more about interactive tables.';\n",
              "          element.innerHTML = '';\n",
              "          dataTable['output_type'] = 'display_data';\n",
              "          await google.colab.output.renderOutput(dataTable, element);\n",
              "          const docLink = document.createElement('div');\n",
              "          docLink.innerHTML = docLinkHtml;\n",
              "          element.appendChild(docLink);\n",
              "        }\n",
              "      </script>\n",
              "    </div>\n",
              "  </div>\n",
              "  "
            ]
          },
          "metadata": {},
          "execution_count": 4
        }
      ]
    },
    {
      "cell_type": "code",
      "source": [
        "#Ahora nos vamos al tipo de especie, al parecer las 150 observaciones están divididas por partes iguales\n",
        "#Desde aquí podemos ir pensando que el largo de los sépalos debe estar relacionado con la especie\n",
        "#https://es.wikipedia.org/wiki/S%C3%A9palo -> Wikipedia nos dice que hay variedad de sépalos por especies\n",
        "iris.groupby(['species'])['species'].count()"
      ],
      "metadata": {
        "colab": {
          "base_uri": "https://localhost:8080/"
        },
        "id": "9cOmslaJYWYM",
        "outputId": "25ae89e0-165b-4be1-d0d4-5db3458169d2"
      },
      "execution_count": 5,
      "outputs": [
        {
          "output_type": "execute_result",
          "data": {
            "text/plain": [
              "species\n",
              "setosa        50\n",
              "versicolor    50\n",
              "virginica     50\n",
              "Name: species, dtype: int64"
            ]
          },
          "metadata": {},
          "execution_count": 5
        }
      ]
    },
    {
      "cell_type": "code",
      "source": [
        "#Visualicemos un poquillo, hagamos lo mismo que en clase, un PLOT por tipo de especie\n",
        "sns.FacetGrid(iris, hue =\"species\",\n",
        "              height = 5, palette=['blue','black','orange']).map(plt.scatter,\n",
        "                              'sepal_length',\n",
        "                              'petal_length').add_legend(loc =\"upper center\")\n",
        "#En la gráfica podemos ver que hay intersecciones donde algunas especies tienen sépalos de igual tamaño\n",
        "#Podemos asumir que las diferencias se deben a que son de diferentes especies, pero...\n",
        "#¿Qué otro atributo nos puede ayudar a diferenciar? -> Los pétalos"
      ],
      "metadata": {
        "colab": {
          "base_uri": "https://localhost:8080/",
          "height": 393
        },
        "id": "02MkLPxtbN8e",
        "outputId": "047e3975-1880-4a50-b4c6-62d1560c1a88"
      },
      "execution_count": 6,
      "outputs": [
        {
          "output_type": "execute_result",
          "data": {
            "text/plain": [
              "<seaborn.axisgrid.FacetGrid at 0x7f72ba2a7b50>"
            ]
          },
          "metadata": {},
          "execution_count": 6
        },
        {
          "output_type": "display_data",
          "data": {
            "text/plain": [
              "<Figure size 444.75x360 with 1 Axes>"
            ],
            "image/png": "[encoded data removed]"
          },
          "metadata": {
            "needs_background": "light"
          }
        }
      ]
    },
    {
      "cell_type": "markdown",
      "source": [
        "# Divide and Conquer ⚔"
      ],
      "metadata": {
        "id": "-56x7zOBsahD"
      }
    },
    {
      "cell_type": "code",
      "source": [
        "#Primero dividamos por especies\n",
        "dfsetosa = iris[(iris['species'] == \"setosa\")]\n",
        "dfversicolor = iris[(iris['species'] == \"versicolor\")]\n",
        "dfvirginica = iris[(iris['species'] == \"virginica\")]"
      ],
      "metadata": {
        "id": "NY9AYcS2soBV"
      },
      "execution_count": 7,
      "outputs": []
    },
    {
      "cell_type": "markdown",
      "source": [
        "# Quiero ver si los sets pueden asumirse normales ❓"
      ],
      "metadata": {
        "id": "jIpBmHuWu23F"
      }
    },
    {
      "cell_type": "code",
      "source": [
        "#Importamos el test Shapiro para probar normalidad para cada set\n",
        "#Importante notar que si pvalue > 0.05 entonces se asume distribución normal\n",
        "#¿De dónde me saco a Shapiro? - de aquí: https://en.wikipedia.org/wiki/Shapiro%E2%80%93Wilk_test\n",
        "from scipy.stats import shapiro"
      ],
      "metadata": {
        "id": "G15BhHabtaxH"
      },
      "execution_count": 8,
      "outputs": []
    },
    {
      "cell_type": "code",
      "source": [
        "#Pvalue es 0.4595 > 0.05 -> No hay suficiente evidencia para rechazar H nula, ergo, la distribución es normal\n",
        "shapiro(dfsetosa['sepal_length'])"
      ],
      "metadata": {
        "colab": {
          "base_uri": "https://localhost:8080/"
        },
        "id": "fwGXzO1etnju",
        "outputId": "7f65d282-e643-4a08-bd91-1a89d3c1cef3"
      },
      "execution_count": 9,
      "outputs": [
        {
          "output_type": "execute_result",
          "data": {
            "text/plain": [
              "ShapiroResult(statistic=0.9776989221572876, pvalue=0.4595281183719635)"
            ]
          },
          "metadata": {},
          "execution_count": 9
        }
      ]
    },
    {
      "cell_type": "code",
      "source": [
        "#Pvalue es 0.4647 > 0.05 -> No hay suficiente evidencia para rechazar H nula, ergo, la distribución es normal\n",
        "shapiro(dfversicolor['sepal_length'])"
      ],
      "metadata": {
        "colab": {
          "base_uri": "https://localhost:8080/"
        },
        "id": "Hr7dw3UJuip4",
        "outputId": "06d6ed00-5f03-4151-bfa7-c7d1ccee5c44"
      },
      "execution_count": 10,
      "outputs": [
        {
          "output_type": "execute_result",
          "data": {
            "text/plain": [
              "ShapiroResult(statistic=0.9778355956077576, pvalue=0.46473264694213867)"
            ]
          },
          "metadata": {},
          "execution_count": 10
        }
      ]
    },
    {
      "cell_type": "code",
      "source": [
        "#Pvalue es 0.2583 > 0.05 -> No hay suficiente evidencia para rechazar H nula, ergo, la distribución es normal\n",
        "shapiro(dfvirginica['sepal_length'])"
      ],
      "metadata": {
        "colab": {
          "base_uri": "https://localhost:8080/"
        },
        "id": "qSL3OTj2uoWU",
        "outputId": "c91ed425-f6a6-4823-bc0a-a1938e33a214"
      },
      "execution_count": 11,
      "outputs": [
        {
          "output_type": "execute_result",
          "data": {
            "text/plain": [
              "ShapiroResult(statistic=0.9711798429489136, pvalue=0.25832483172416687)"
            ]
          },
          "metadata": {},
          "execution_count": 11
        }
      ]
    },
    {
      "cell_type": "markdown",
      "source": [
        "# Ok, asumimos normalidad, ¿Y ahora qué? ¿Conclusiones? ⛪"
      ],
      "metadata": {
        "id": "w4tb9Aqb-TrA"
      }
    },
    {
      "cell_type": "markdown",
      "source": [
        ""
      ],
      "metadata": {
        "id": "mmIL0CYl-HBb"
      }
    },
    {
      "cell_type": "code",
      "source": [
        "#¿De dónde me saco la prueba? Two sample t-test https://www.statology.org/two-sample-t-test/\n",
        "#pongo equal var = True para asumir que son iguales\n",
        "#Si la prueba sale con pvalue > 0.05 entonces las medias son iguales de lo contrario -ño-\n",
        "import scipy.stats as stats"
      ],
      "metadata": {
        "id": "tMHBUPFJxzS0"
      },
      "execution_count": 12,
      "outputs": []
    },
    {
      "cell_type": "code",
      "source": [
        "stats.ttest_ind(dfsetosa['sepal_length'],dfversicolor['sepal_length'], equal_var=True)"
      ],
      "metadata": {
        "colab": {
          "base_uri": "https://localhost:8080/"
        },
        "id": "Iflf1Il5x0lv",
        "outputId": "643f0e2d-e1ee-470e-a796-cb4ab0c18276"
      },
      "execution_count": 13,
      "outputs": [
        {
          "output_type": "execute_result",
          "data": {
            "text/plain": [
              "Ttest_indResult(statistic=-10.52098626754911, pvalue=8.985235037487079e-18)"
            ]
          },
          "metadata": {},
          "execution_count": 13
        }
      ]
    },
    {
      "cell_type": "code",
      "source": [
        "stats.ttest_ind(dfvirginica['sepal_length'],dfversicolor['sepal_length'], equal_var=True)"
      ],
      "metadata": {
        "colab": {
          "base_uri": "https://localhost:8080/"
        },
        "id": "XTgVeqqtyQGE",
        "outputId": "bc8b0c44-28e4-46c7-f3c3-b05df4c74caf"
      },
      "execution_count": 14,
      "outputs": [
        {
          "output_type": "execute_result",
          "data": {
            "text/plain": [
              "Ttest_indResult(statistic=5.629165259719801, pvalue=1.7248563024547942e-07)"
            ]
          },
          "metadata": {},
          "execution_count": 14
        }
      ]
    },
    {
      "cell_type": "code",
      "source": [
        "stats.ttest_ind(dfsetosa['sepal_length'],dfvirginica['sepal_length'], equal_var=True)"
      ],
      "metadata": {
        "colab": {
          "base_uri": "https://localhost:8080/"
        },
        "id": "c8yI6ie2yP3h",
        "outputId": "c0057789-3f7d-4c72-de1f-6b8647adb566"
      },
      "execution_count": 15,
      "outputs": [
        {
          "output_type": "execute_result",
          "data": {
            "text/plain": [
              "Ttest_indResult(statistic=-15.386195820079404, pvalue=6.892546060674059e-28)"
            ]
          },
          "metadata": {},
          "execution_count": 15
        }
      ]
    },
    {
      "cell_type": "markdown",
      "source": [
        "# Ahora a graficar!!! 📊"
      ],
      "metadata": {
        "id": "-MgUbV1GHe_3"
      }
    },
    {
      "cell_type": "code",
      "source": [
        "#Importamos unos pequeños artilugios para plotear los datos y su fit con la normal\n",
        "from scipy.stats import norm"
      ],
      "metadata": {
        "id": "2lA2xc22CzDD"
      },
      "execution_count": 16,
      "outputs": []
    },
    {
      "cell_type": "code",
      "source": [
        "# Plot the histogram.\n",
        "mu, std = norm.fit(dfsetosa['sepal_length']) \n",
        "plt.hist(dfsetosa['sepal_length'], bins=10, density=True, alpha=0.6, color='green')\n",
        "# Plot the PDF.\n",
        "xmin, xmax = plt.xlim()\n",
        "x = np.linspace(xmin, xmax, 100)\n",
        "p = norm.pdf(x, mu, std)\n",
        "  \n",
        "plt.plot(x, p, 'k', linewidth=2)\n",
        "title = \"Setosa Fit Values: {:.2f} and {:.2f}\".format(mu, std)\n",
        "plt.title(title)\n",
        "plt.show()"
      ],
      "metadata": {
        "colab": {
          "base_uri": "https://localhost:8080/",
          "height": 281
        },
        "id": "z6fyXdygBAi-",
        "outputId": "1aa452b5-02e0-4b83-ba26-c7e762d319df"
      },
      "execution_count": 17,
      "outputs": [
        {
          "output_type": "display_data",
          "data": {
            "text/plain": [
              "<Figure size 432x288 with 1 Axes>"
            ],
            "image/png": "[encoded data removed]"
          },
          "metadata": {
            "needs_background": "light"
          }
        }
      ]
    },
    {
      "cell_type": "code",
      "source": [
        "# Plot the histogram.\n",
        "mu, std = norm.fit(dfversicolor['sepal_length']) \n",
        "plt.hist(dfversicolor['sepal_length'], bins=10, density=True, alpha=0.6, color='violet')\n",
        "# Plot the PDF.\n",
        "xmin, xmax = plt.xlim()\n",
        "x = np.linspace(xmin, xmax, 100)\n",
        "p = norm.pdf(x, mu, std)\n",
        "  \n",
        "plt.plot(x, p, 'k', linewidth=2)\n",
        "title = \"Versicolor Fit Values: {:.2f} and {:.2f}\".format(mu, std)\n",
        "plt.title(title)\n",
        "plt.show()"
      ],
      "metadata": {
        "colab": {
          "base_uri": "https://localhost:8080/",
          "height": 281
        },
        "id": "x-B63kAsESzE",
        "outputId": "c8661d02-6bb0-40bc-a22b-395774274712"
      },
      "execution_count": 18,
      "outputs": [
        {
          "output_type": "display_data",
          "data": {
            "text/plain": [
              "<Figure size 432x288 with 1 Axes>"
            ],
            "image/png": "[encoded data removed]"
          },
          "metadata": {
            "needs_background": "light"
          }
        }
      ]
    },
    {
      "cell_type": "code",
      "source": [
        "# Plot the histogram.\n",
        "mu, std = norm.fit(dfvirginica['sepal_length']) \n",
        "plt.hist(dfvirginica['sepal_length'], bins=10, density=True, alpha=0.6, color='blue')\n",
        "# Plot the PDF.\n",
        "xmin, xmax = plt.xlim()\n",
        "x = np.linspace(xmin, xmax, 100)\n",
        "p = norm.pdf(x, mu, std)\n",
        "  \n",
        "plt.plot(x, p, 'k', linewidth=2)\n",
        "title = \"Virginica Fit Values: {:.2f} and {:.2f}\".format(mu, std)\n",
        "plt.title(title)\n",
        "plt.show()"
      ],
      "metadata": {
        "colab": {
          "base_uri": "https://localhost:8080/",
          "height": 281
        },
        "id": "YHF3kKajFkpH",
        "outputId": "40b13e4f-d10f-4fc0-87d6-86d0ec55c181"
      },
      "execution_count": 20,
      "outputs": [
        {
          "output_type": "display_data",
          "data": {
            "text/plain": [
              "<Figure size 432x288 with 1 Axes>"
            ],
            "image/png": "[encoded data removed]"
          },
          "metadata": {
            "needs_background": "light"
          }
        }
      ]
    }
  ]
}